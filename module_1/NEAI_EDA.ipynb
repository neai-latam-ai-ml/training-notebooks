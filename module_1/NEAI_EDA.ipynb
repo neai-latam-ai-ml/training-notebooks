{
 "cells": [
  {
   "cell_type": "markdown",
   "metadata": {
    "id": "sRlz5Z0_tm__"
   },
   "source": [
    "# Exploratory Data Analysis\n",
    "\n",
    "In this exercise, we will explore a dataset containing samples collected from various SD-WAN network devices. The dataset includes variables such as CPU utilization, memory consumption, and software version, which can be analyzed to identify common patterns and behaviors across the devices.\n",
    "\n",
    "\n",
    "###Objectives.\n",
    "\n",
    "- Load a dataset in .csv format.\n",
    "- Explore the capabilities of the NumPy, Pandas, Matplotlib, and Seaborn libraries for data analysis and visualization\n"
   ]
  },
  {
   "cell_type": "markdown",
   "metadata": {
    "id": "nsp_2LC-xngi"
   },
   "source": [
    "Before diving into the data exploration and analysis, we need to import the necessary libraries that provide the tools and functions we'll be using. These libraries are essential for tasks such as data manipulation, visualization, and statistical analysis. Here's a breakdown of the libraries we'll be importing and their roles in our analysis:\"\n",
    "\n",
    "- **NumPy**: NumPy is the fundamental package for scientific computing in Python. It provides support for large, multi-dimensional arrays and matrices, along with a collection of mathematical functions to operate on these arrays. We'll leverage NumPy for numerical computations and data transformation\n",
    "- **Pandas**: This library is crucial for data manipulation and analysis. We'll use it to load our dataset, clean and preprocess it, and perform various operations on the data.\n",
    "- **Matplotlib**: This library provides a wide range of tools for creating static, interactive, and animated visualizations in Python. We'll utilize Matplotlib to generate plots and charts that help us understand the patterns and relationships within the data.\n",
    "- **Seaborn**: Built on top of Matplotlib, Seaborn provides a higher-level interface for creating visually appealing and informative statistical graphics. We'll use Seaborn to generate more advanced visualizations and explore the data's statistical properties."
   ]
  },
  {
   "cell_type": "code",
   "execution_count": null,
   "metadata": {},
   "outputs": [],
   "source": [
    "pip install seaborn"
   ]
  },
  {
   "cell_type": "code",
   "execution_count": null,
   "metadata": {},
   "outputs": [],
   "source": [
    "pip install openpyxl"
   ]
  },
  {
   "cell_type": "code",
   "execution_count": null,
   "metadata": {
    "id": "nMXzrC-Xxzlx"
   },
   "outputs": [],
   "source": [
    "import numpy as np\n",
    "import pandas as pd\n",
    "import matplotlib\n",
    "import matplotlib.pyplot as plt\n",
    "import seaborn as sns"
   ]
  },
  {
   "cell_type": "markdown",
   "metadata": {
    "id": "XzqMhhymvLGE"
   },
   "source": [
    "Next, we'll check the versions of the libraries we're using. Libraries are frequently updated, and knowing their versions is helpful for referencing the correct documentation, ensuring the analysis can be reproduced in other environments, and facilitating troubleshooting."
   ]
  },
  {
   "cell_type": "code",
   "execution_count": null,
   "metadata": {
    "colab": {
     "base_uri": "https://localhost:8080/"
    },
    "id": "dugrttTUzC01",
    "outputId": "fd05c3d7-73ac-48ca-c26c-af58057f8eac"
   },
   "outputs": [],
   "source": [
    "print(f\"Numpy Version: {np.__version__}\")\n",
    "print(f\"Pandas Version: {pd.__version__}\")\n",
    "print(f\"Matplotlib Version: {matplotlib.__version__}\")\n",
    "print(f\"Seaborn Version: {sns.__version__}\")"
   ]
  },
  {
   "cell_type": "markdown",
   "metadata": {
    "id": "_6P02CM51_xP"
   },
   "source": [
    "Let's import and examine the dataset dictionary, provided by **domain experts** to understand the variables included in the analysis.\n"
   ]
  },
  {
   "cell_type": "code",
   "execution_count": null,
   "metadata": {
    "colab": {
     "base_uri": "https://localhost:8080/",
     "height": 394
    },
    "id": "a4BMrgGI2IZX",
    "outputId": "f1a9c24a-de86-439f-a4af-6dbbc341c9c2"
   },
   "outputs": [],
   "source": [
    "Dictionary = pd.read_excel('NEAI_EDA_Dictionary.xlsx')\n",
    "Dictionary"
   ]
  },
  {
   "cell_type": "markdown",
   "metadata": {
    "id": "lBvBNbF223JF"
   },
   "source": [
    "Import the dataset from a CSV file and perform initial exploratory analysis to understand its underlying relationships and potential challenges. We can achieve this using Pandas for data loading and manipulation, and potentially Matplotlib and Seaborn for basic visualizations."
   ]
  },
  {
   "cell_type": "code",
   "execution_count": null,
   "metadata": {
    "id": "rtAL52ds22ic"
   },
   "outputs": [],
   "source": [
    "Path = 'Dataset Meraki.csv'\n",
    "data = pd.read_csv(Path, sep=';', na_values=['?'], encoding = 'utf-8')"
   ]
  },
  {
   "cell_type": "code",
   "execution_count": null,
   "metadata": {
    "colab": {
     "base_uri": "https://localhost:8080/"
    },
    "id": "B9bhUjxM3uag",
    "outputId": "92ba96e6-9246-452d-faad-23cb3f2db8ba"
   },
   "outputs": [],
   "source": [
    "data.shape"
   ]
  },
  {
   "cell_type": "code",
   "execution_count": null,
   "metadata": {
    "colab": {
     "base_uri": "https://localhost:8080/",
     "height": 261
    },
    "id": "CGjf6NQA3vit",
    "outputId": "c876e887-c3a8-4bf3-acd1-a4b9a5540515"
   },
   "outputs": [],
   "source": [
    "data.head()"
   ]
  },
  {
   "cell_type": "code",
   "execution_count": null,
   "metadata": {
    "colab": {
     "base_uri": "https://localhost:8080/",
     "height": 300
    },
    "id": "NmcA2YzX4AUJ",
    "outputId": "c9077abf-fc8a-4bc2-957e-a45db004938f"
   },
   "outputs": [],
   "source": [
    "data.describe()"
   ]
  },
  {
   "cell_type": "code",
   "execution_count": null,
   "metadata": {
    "colab": {
     "base_uri": "https://localhost:8080/",
     "height": 447
    },
    "id": "ocjeZPvI4JMR",
    "outputId": "37921b90-3604-40a4-ee1d-9e5de305d724"
   },
   "outputs": [],
   "source": [
    "print(\"Missing Values\")\n",
    "data.isnull().sum()"
   ]
  },
  {
   "cell_type": "code",
   "execution_count": null,
   "metadata": {
    "colab": {
     "base_uri": "https://localhost:8080/"
    },
    "id": "4BVsiexP4Qdg",
    "outputId": "ae1b86cd-d672-4d5d-b6d5-d2faf8136b77"
   },
   "outputs": [],
   "source": [
    "print(\"Duplicated Rows\")\n",
    "data.duplicated().sum()"
   ]
  },
  {
   "cell_type": "code",
   "execution_count": null,
   "metadata": {
    "colab": {
     "base_uri": "https://localhost:8080/"
    },
    "id": "tPvQ8oI0DUdH",
    "outputId": "dee81d44-77c1-4a12-8070-eba561d6a015"
   },
   "outputs": [],
   "source": [
    "# names of columns with only duplicated values (single unique value)\n",
    "single_value_cols = []\n",
    "for col in data.columns:\n",
    "    num_duplicates = data[col].duplicated().sum()\n",
    "    total_values = data.shape[0]\n",
    "    if num_duplicates == total_values - 1 and total_values > 1:\n",
    "        single_value_cols.append(col)\n",
    "\n",
    "print(f\"Columns with a single unique value: {single_value_cols}\")"
   ]
  },
  {
   "cell_type": "code",
   "execution_count": null,
   "metadata": {
    "colab": {
     "base_uri": "https://localhost:8080/"
    },
    "id": "zunzGbTC4eXs",
    "outputId": "5f96b541-57de-4d83-c748-b5a001b3fdce"
   },
   "outputs": [],
   "source": [
    "unique_cols = [col for col in data.columns if data[col].nunique() == data.shape[0]]\n",
    "print(f\"Columns with only different values: {unique_cols}\")"
   ]
  },
  {
   "cell_type": "code",
   "execution_count": null,
   "metadata": {
    "colab": {
     "base_uri": "https://localhost:8080/",
     "height": 429
    },
    "id": "wzkuy04L9mfG",
    "outputId": "08df8aba-9b81-4f61-c001-5a41cf5cb849"
   },
   "outputs": [],
   "source": [
    "data.iloc[50]"
   ]
  },
  {
   "cell_type": "code",
   "execution_count": null,
   "metadata": {
    "colab": {
     "base_uri": "https://localhost:8080/",
     "height": 369
    },
    "id": "-kIf6lrS9tIp",
    "outputId": "34ac9e21-87b9-47a9-d205-5dfea1ef4730"
   },
   "outputs": [],
   "source": [
    "data.iloc[1:10]"
   ]
  },
  {
   "cell_type": "code",
   "execution_count": null,
   "metadata": {
    "colab": {
     "base_uri": "https://localhost:8080/",
     "height": 729
    },
    "id": "MGXezYRFF3t8",
    "outputId": "b24ac078-d220-4dca-f47f-38b0fd8ada19"
   },
   "outputs": [],
   "source": [
    "datac = data.copy()\n",
    "\n",
    "# Drop the 'timestamp' column as it's not relevant for correlation calculation\n",
    "if 'timestamp' in datac.columns:\n",
    "    datac = datac.drop('timestamp', axis=1)\n",
    "    print(\"Dropped 'timestamp' column.\") # Optional: Add a print statement to confirm\n",
    "\n",
    "# Select only numeric columns for correlation calculation\n",
    "# This will automatically exclude any remaining non-numeric columns\n",
    "numeric_datac = datac.select_dtypes(include=np.number)\n",
    "\n",
    "# Check if there are any numeric columns left before calculating correlation\n",
    "if not numeric_datac.empty:\n",
    "    correlation_matrix = numeric_datac.corr()\n",
    "    plt.figure(figsize=(12, 10))\n",
    "    sns.heatmap(correlation_matrix, annot=True, cmap='coolwarm', fmt=\".2f\")\n",
    "    plt.title(\"Correlation Matrix (Numeric Columns)\")\n",
    "    plt.show()\n",
    "else:\n",
    "    print(\"No numeric columns found to calculate correlation after dropping 'timestamp'.\")"
   ]
  },
  {
   "cell_type": "code",
   "execution_count": null,
   "metadata": {
    "id": "hEqwWV0K6GzK"
   },
   "outputs": [],
   "source": [
    "%matplotlib inline"
   ]
  },
  {
   "cell_type": "code",
   "execution_count": null,
   "metadata": {
    "colab": {
     "base_uri": "https://localhost:8080/",
     "height": 327
    },
    "id": "OxCsqe2u6Lij",
    "outputId": "06a01b53-6c7d-43cb-c851-112b4aa56889"
   },
   "outputs": [],
   "source": [
    "plt.figure(figsize=(16,6))\n",
    "\n",
    "plot_data = data['cpu_utilization'].value_counts()\n",
    "x = plot_data.index\n",
    "y = plot_data.values\n",
    "\n",
    "plt.bar(x,y)\n",
    "plt.title('CPU Utilization')\n",
    "plt.xticks(rotation=90)\n",
    "\n",
    "plt.show()"
   ]
  },
  {
   "cell_type": "code",
   "execution_count": null,
   "metadata": {
    "colab": {
     "base_uri": "https://localhost:8080/",
     "height": 327
    },
    "id": "qD26PXnfKAwY",
    "outputId": "5f25d1c8-8467-44c8-fa0e-d4ddc34675ae"
   },
   "outputs": [],
   "source": [
    "plt.figure(figsize=(16,6))\n",
    "\n",
    "plot_data = data['mem_utilization'].value_counts()\n",
    "x = plot_data.index\n",
    "y = plot_data.values\n",
    "\n",
    "plt.bar(x,y)\n",
    "plt.title('Memory Utilization')\n",
    "plt.xticks(rotation=90)\n",
    "\n",
    "plt.show()"
   ]
  },
  {
   "cell_type": "code",
   "execution_count": null,
   "metadata": {
    "colab": {
     "base_uri": "https://localhost:8080/",
     "height": 365
    },
    "id": "5gk551JzKkNL",
    "outputId": "af0f5700-a715-436b-c1a0-435f4fd60965"
   },
   "outputs": [],
   "source": [
    "## Analyzing CPU Utilization by Software Version\n",
    "\n",
    "# Create a box plot to show the distribution of CPU utilization for each software version.\n",
    "# Box plots are useful for visualizing the distribution, median, and potential outliers\n",
    "# of a numerical variable across different categories.\n",
    "plt.figure(figsize=(15, 7))\n",
    "sns.boxplot(x='version', y='cpu_utilization', data=data)\n",
    "plt.title('CPU Utilization by Software Version')\n",
    "plt.xlabel('Software Version')\n",
    "plt.ylabel('CPU Utilization (%)')\n",
    "plt.xticks(rotation=45, ha='right')\n",
    "plt.tight_layout()\n",
    "plt.show()"
   ]
  },
  {
   "cell_type": "code",
   "execution_count": null,
   "metadata": {
    "colab": {
     "base_uri": "https://localhost:8080/",
     "height": 365
    },
    "id": "03P9x0N9OKOA",
    "outputId": "82783768-b4f4-4ade-e44f-3be4b11c7047"
   },
   "outputs": [],
   "source": [
    "## Analyzing Memory Utilization by Software Version\n",
    "\n",
    "# Create a box plot to show the distribution of CPU utilization for each software version.\n",
    "# Box plots are useful for visualizing the distribution, median, and potential outliers\n",
    "# of a numerical variable across different categories.\n",
    "plt.figure(figsize=(15, 7))\n",
    "sns.boxplot(x='version', y='mem_utilization', data=data)\n",
    "plt.title('Memory Utilization by Software Version')\n",
    "plt.xlabel('Software Version')\n",
    "plt.ylabel('Memory Utilization (%)')\n",
    "plt.xticks(rotation=45, ha='right')\n",
    "plt.tight_layout()\n",
    "plt.show()"
   ]
  },
  {
   "cell_type": "code",
   "execution_count": null,
   "metadata": {
    "colab": {
     "base_uri": "https://localhost:8080/",
     "height": 564
    },
    "id": "BviJBYmR9Caf",
    "outputId": "3f27ddab-35ac-4f7a-c99a-3459f5e03af9"
   },
   "outputs": [],
   "source": [
    "plt.figure(figsize=(6,6))\n",
    "\n",
    "x = data['mem_utilization']\n",
    "y = data['cpu_utilization']\n",
    "forma = '*'\n",
    "\n",
    "plt.plot(x,y,forma, color='blue')\n",
    "plt.title('mem vs cpu')\n",
    "plt.xlabel('memory')\n",
    "plt.ylabel('cpu')\n",
    "plt.show()"
   ]
  },
  {
   "cell_type": "markdown",
   "metadata": {
    "id": "mNIvtHxDSp1F"
   },
   "source": [
    "End of exploratory data analysis"
   ]
  },
  {
   "cell_type": "code",
   "execution_count": null,
   "metadata": {},
   "outputs": [],
   "source": []
  }
 ],
 "metadata": {
  "colab": {
   "provenance": []
  },
  "kernelspec": {
   "display_name": "Python 3 (ipykernel)",
   "language": "python",
   "name": "python3"
  },
  "language_info": {
   "codemirror_mode": {
    "name": "ipython",
    "version": 3
   },
   "file_extension": ".py",
   "mimetype": "text/x-python",
   "name": "python",
   "nbconvert_exporter": "python",
   "pygments_lexer": "ipython3",
   "version": "3.11.5"
  }
 },
 "nbformat": 4,
 "nbformat_minor": 4
}
