{
 "cells": [
  {
   "cell_type": "markdown",
   "metadata": {
    "id": "sRlz5Z0_tm__"
   },
   "source": [
    "# Exploratory Data Analysis\n",
    "\n",
    "In this exercise, we will explore a dataset containing samples collected from various SD-WAN network devices. The dataset includes variables such as CPU utilization, memory consumption, and software version, which can be analyzed to identify common patterns and behaviors across the devices.\n",
    "\n",
    "\n",
    "###Objectives.\n",
    "\n",
    "- Load a dataset in .csv format.\n",
    "- Explore the capabilities of the NumPy, Pandas, Matplotlib, and Seaborn libraries for data analysis and visualization\n"
   ]
  },
  {
   "cell_type": "markdown",
   "metadata": {
    "id": "nsp_2LC-xngi"
   },
   "source": [
    "Before diving into the data exploration and analysis, we need to import the necessary libraries that provide the tools and functions we'll be using. These libraries are essential for tasks such as data manipulation, visualization, and statistical analysis. Here's a breakdown of the libraries we'll be importing and their roles in our analysis:\"\n",
    "\n",
    "- **NumPy**: NumPy is the fundamental package for scientific computing in Python. It provides support for large, multi-dimensional arrays and matrices, along with a collection of mathematical functions to operate on these arrays. We'll leverage NumPy for numerical computations and data transformation\n",
    "- **Pandas**: This library is crucial for data manipulation and analysis. We'll use it to load our dataset, clean and preprocess it, and perform various operations on the data.\n",
    "- **Matplotlib**: This library provides a wide range of tools for creating static, interactive, and animated visualizations in Python. We'll utilize Matplotlib to generate plots and charts that help us understand the patterns and relationships within the data.\n",
    "- **Seaborn**: Built on top of Matplotlib, Seaborn provides a higher-level interface for creating visually appealing and informative statistical graphics. We'll use Seaborn to generate more advanced visualizations and explore the data's statistical properties."
   ]
  },
  {
   "cell_type": "code",
   "execution_count": 27,
   "metadata": {},
   "outputs": [
    {
     "name": "stdout",
     "output_type": "stream",
     "text": [
      "Defaulting to user installation because normal site-packages is not writeable\n",
      "Requirement already satisfied: seaborn in ./.local/lib/python3.11/site-packages (0.13.2)\n",
      "Requirement already satisfied: numpy!=1.24.0,>=1.20 in ./.local/lib/python3.11/site-packages (from seaborn) (1.26.4)\n",
      "Requirement already satisfied: pandas>=1.2 in ./.local/lib/python3.11/site-packages (from seaborn) (2.2.3)\n",
      "Requirement already satisfied: matplotlib!=3.6.1,>=3.4 in ./.local/lib/python3.11/site-packages (from seaborn) (3.10.3)\n",
      "Requirement already satisfied: contourpy>=1.0.1 in ./.local/lib/python3.11/site-packages (from matplotlib!=3.6.1,>=3.4->seaborn) (1.3.2)\n",
      "Requirement already satisfied: cycler>=0.10 in ./.local/lib/python3.11/site-packages (from matplotlib!=3.6.1,>=3.4->seaborn) (0.12.1)\n",
      "Requirement already satisfied: fonttools>=4.22.0 in ./.local/lib/python3.11/site-packages (from matplotlib!=3.6.1,>=3.4->seaborn) (4.58.0)\n",
      "Requirement already satisfied: kiwisolver>=1.3.1 in ./.local/lib/python3.11/site-packages (from matplotlib!=3.6.1,>=3.4->seaborn) (1.4.8)\n",
      "Requirement already satisfied: packaging>=20.0 in /usr/lib/python3/dist-packages (from matplotlib!=3.6.1,>=3.4->seaborn) (24.0)\n",
      "Requirement already satisfied: pillow>=8 in ./.local/lib/python3.11/site-packages (from matplotlib!=3.6.1,>=3.4->seaborn) (11.0.0)\n",
      "Requirement already satisfied: pyparsing>=2.3.1 in /usr/lib/python3/dist-packages (from matplotlib!=3.6.1,>=3.4->seaborn) (3.1.1)\n",
      "Requirement already satisfied: python-dateutil>=2.7 in /usr/lib/python3/dist-packages (from matplotlib!=3.6.1,>=3.4->seaborn) (2.8.2)\n",
      "Requirement already satisfied: pytz>=2020.1 in /usr/lib/python3/dist-packages (from pandas>=1.2->seaborn) (2024.1)\n",
      "Requirement already satisfied: tzdata>=2022.7 in ./.local/lib/python3.11/site-packages (from pandas>=1.2->seaborn) (2025.2)\n",
      "Note: you may need to restart the kernel to use updated packages.\n"
     ]
    }
   ],
   "source": [
    "pip install seaborn"
   ]
  },
  {
   "cell_type": "code",
   "execution_count": 28,
   "metadata": {},
   "outputs": [
    {
     "name": "stdout",
     "output_type": "stream",
     "text": [
      "Defaulting to user installation because normal site-packages is not writeable\n",
      "Requirement already satisfied: openpyxl in ./.local/lib/python3.11/site-packages (3.1.5)\n",
      "Requirement already satisfied: et-xmlfile in ./.local/lib/python3.11/site-packages (from openpyxl) (2.0.0)\n",
      "Note: you may need to restart the kernel to use updated packages.\n"
     ]
    }
   ],
   "source": [
    "pip install openpyxl"
   ]
  },
  {
   "cell_type": "code",
   "execution_count": 29,
   "metadata": {
    "id": "nMXzrC-Xxzlx"
   },
   "outputs": [],
   "source": [
    "import numpy as np\n",
    "import pandas as pd\n",
    "import matplotlib\n",
    "import matplotlib.pyplot as plt\n",
    "import seaborn as sns"
   ]
  },
  {
   "cell_type": "markdown",
   "metadata": {
    "id": "XzqMhhymvLGE"
   },
   "source": [
    "Next, we'll check the versions of the libraries we're using. Libraries are frequently updated, and knowing their versions is helpful for referencing the correct documentation, ensuring the analysis can be reproduced in other environments, and facilitating troubleshooting."
   ]
  },
  {
   "cell_type": "code",
   "execution_count": 30,
   "metadata": {
    "colab": {
     "base_uri": "https://localhost:8080/"
    },
    "id": "dugrttTUzC01",
    "outputId": "fd05c3d7-73ac-48ca-c26c-af58057f8eac"
   },
   "outputs": [
    {
     "name": "stdout",
     "output_type": "stream",
     "text": [
      "Numpy Version: 1.26.4\n",
      "Pandas Version: 2.2.3\n",
      "Matplotlib Version: 3.10.3\n",
      "Seaborn Version: 0.13.2\n"
     ]
    }
   ],
   "source": [
    "print(f\"Numpy Version: {np.__version__}\")\n",
    "print(f\"Pandas Version: {pd.__version__}\")\n",
    "print(f\"Matplotlib Version: {matplotlib.__version__}\")\n",
    "print(f\"Seaborn Version: {sns.__version__}\")"
   ]
  },
  {
   "cell_type": "markdown",
   "metadata": {
    "id": "_6P02CM51_xP"
   },
   "source": [
    "Let's import and examine the dataset dictionary, provided by **domain experts** to understand the variables included in the analysis.\n"
   ]
  },
  {
   "cell_type": "code",
   "execution_count": 32,
   "metadata": {
    "colab": {
     "base_uri": "https://localhost:8080/",
     "height": 394
    },
    "id": "a4BMrgGI2IZX",
    "outputId": "f1a9c24a-de86-439f-a4af-6dbbc341c9c2"
   },
   "outputs": [
    {
     "data": {
      "text/html": [
       "<div>\n",
       "<style scoped>\n",
       "    .dataframe tbody tr th:only-of-type {\n",
       "        vertical-align: middle;\n",
       "    }\n",
       "\n",
       "    .dataframe tbody tr th {\n",
       "        vertical-align: top;\n",
       "    }\n",
       "\n",
       "    .dataframe thead th {\n",
       "        text-align: right;\n",
       "    }\n",
       "</style>\n",
       "<table border=\"1\" class=\"dataframe\">\n",
       "  <thead>\n",
       "    <tr style=\"text-align: right;\">\n",
       "      <th></th>\n",
       "      <th>Column Name</th>\n",
       "      <th>Type</th>\n",
       "      <th>Description</th>\n",
       "    </tr>\n",
       "  </thead>\n",
       "  <tbody>\n",
       "    <tr>\n",
       "      <th>0</th>\n",
       "      <td>timestamp</td>\n",
       "      <td>Numerical (Integer)</td>\n",
       "      <td>UNIX timestamp indicating when the data sample...</td>\n",
       "    </tr>\n",
       "    <tr>\n",
       "      <th>1</th>\n",
       "      <td>cpu_utilization</td>\n",
       "      <td>Numerical (Integer)</td>\n",
       "      <td>CPU usage percentage of the device at the time...</td>\n",
       "    </tr>\n",
       "    <tr>\n",
       "      <th>2</th>\n",
       "      <td>device_name</td>\n",
       "      <td>Categorical (String)</td>\n",
       "      <td>Unique identifier or label for the device with...</td>\n",
       "    </tr>\n",
       "    <tr>\n",
       "      <th>3</th>\n",
       "      <td>vendor</td>\n",
       "      <td>Categorical (String)</td>\n",
       "      <td>Name of the device manufacturer  (e.g., Cisco ...</td>\n",
       "    </tr>\n",
       "    <tr>\n",
       "      <th>4</th>\n",
       "      <td>model</td>\n",
       "      <td>Categorical (String)</td>\n",
       "      <td>Model identifier of the device (e.g., MX450, M...</td>\n",
       "    </tr>\n",
       "    <tr>\n",
       "      <th>5</th>\n",
       "      <td>os</td>\n",
       "      <td>Categorical (String)</td>\n",
       "      <td>Operating system name or type running on the d...</td>\n",
       "    </tr>\n",
       "    <tr>\n",
       "      <th>6</th>\n",
       "      <td>version</td>\n",
       "      <td>Categorical (String)</td>\n",
       "      <td>Version number of the operating system install...</td>\n",
       "    </tr>\n",
       "    <tr>\n",
       "      <th>7</th>\n",
       "      <td>hw_revision</td>\n",
       "      <td>Categorical (String)</td>\n",
       "      <td>Hardware revision or build identifier of the d...</td>\n",
       "    </tr>\n",
       "    <tr>\n",
       "      <th>8</th>\n",
       "      <td>role</td>\n",
       "      <td>Categorical (String)</td>\n",
       "      <td>Functional role of the device in the SD-WAN (e...</td>\n",
       "    </tr>\n",
       "    <tr>\n",
       "      <th>9</th>\n",
       "      <td>ip_address</td>\n",
       "      <td>Categorical (String)</td>\n",
       "      <td>IP address assigned to the device.</td>\n",
       "    </tr>\n",
       "    <tr>\n",
       "      <th>10</th>\n",
       "      <td>mem_utilization</td>\n",
       "      <td>Numerical (Float)</td>\n",
       "      <td>Memory usage percentage of the device at the t...</td>\n",
       "    </tr>\n",
       "  </tbody>\n",
       "</table>\n",
       "</div>"
      ],
      "text/plain": [
       "        Column Name                  Type  \\\n",
       "0         timestamp   Numerical (Integer)   \n",
       "1   cpu_utilization   Numerical (Integer)   \n",
       "2       device_name  Categorical (String)   \n",
       "3            vendor  Categorical (String)   \n",
       "4             model  Categorical (String)   \n",
       "5                os  Categorical (String)   \n",
       "6           version  Categorical (String)   \n",
       "7       hw_revision  Categorical (String)   \n",
       "8              role  Categorical (String)   \n",
       "9        ip_address  Categorical (String)   \n",
       "10  mem_utilization     Numerical (Float)   \n",
       "\n",
       "                                          Description  \n",
       "0   UNIX timestamp indicating when the data sample...  \n",
       "1   CPU usage percentage of the device at the time...  \n",
       "2   Unique identifier or label for the device with...  \n",
       "3   Name of the device manufacturer  (e.g., Cisco ...  \n",
       "4   Model identifier of the device (e.g., MX450, M...  \n",
       "5   Operating system name or type running on the d...  \n",
       "6   Version number of the operating system install...  \n",
       "7   Hardware revision or build identifier of the d...  \n",
       "8   Functional role of the device in the SD-WAN (e...  \n",
       "9                  IP address assigned to the device.  \n",
       "10  Memory usage percentage of the device at the t...  "
      ]
     },
     "execution_count": 32,
     "metadata": {},
     "output_type": "execute_result"
    }
   ],
   "source": [
    "Dictionary = pd.read_excel('ai-ml-workshop/module_1/NEAI_EDA_Dictionary.xlsx')\n",
    "Dictionary"
   ]
  },
  {
   "cell_type": "markdown",
   "metadata": {
    "id": "lBvBNbF223JF"
   },
   "source": [
    "Import the dataset from a CSV file and perform initial exploratory analysis to understand its underlying relationships and potential challenges. We can achieve this using Pandas for data loading and manipulation, and potentially Matplotlib and Seaborn for basic visualizations."
   ]
  },
  {
   "cell_type": "code",
   "execution_count": 33,
   "metadata": {
    "id": "rtAL52ds22ic"
   },
   "outputs": [],
   "source": [
    "Path = 'ai-ml-workshop/module_1/Dataset Meraki.csv'\n",
    "data = pd.read_csv(Path, sep=';', na_values=['?'], encoding = 'utf-8')"
   ]
  },
  {
   "cell_type": "code",
   "execution_count": 34,
   "metadata": {
    "colab": {
     "base_uri": "https://localhost:8080/"
    },
    "id": "B9bhUjxM3uag",
    "outputId": "92ba96e6-9246-452d-faad-23cb3f2db8ba"
   },
   "outputs": [
    {
     "data": {
      "text/plain": [
       "(200, 11)"
      ]
     },
     "execution_count": 34,
     "metadata": {},
     "output_type": "execute_result"
    }
   ],
   "source": [
    "data.shape"
   ]
  },
  {
   "cell_type": "code",
   "execution_count": 35,
   "metadata": {
    "colab": {
     "base_uri": "https://localhost:8080/",
     "height": 261
    },
    "id": "CGjf6NQA3vit",
    "outputId": "c876e887-c3a8-4bf3-acd1-a4b9a5540515"
   },
   "outputs": [
    {
     "data": {
      "text/html": [
       "<div>\n",
       "<style scoped>\n",
       "    .dataframe tbody tr th:only-of-type {\n",
       "        vertical-align: middle;\n",
       "    }\n",
       "\n",
       "    .dataframe tbody tr th {\n",
       "        vertical-align: top;\n",
       "    }\n",
       "\n",
       "    .dataframe thead th {\n",
       "        text-align: right;\n",
       "    }\n",
       "</style>\n",
       "<table border=\"1\" class=\"dataframe\">\n",
       "  <thead>\n",
       "    <tr style=\"text-align: right;\">\n",
       "      <th></th>\n",
       "      <th>timestamp</th>\n",
       "      <th>cpu_utilization</th>\n",
       "      <th>device_name</th>\n",
       "      <th>vendor</th>\n",
       "      <th>model</th>\n",
       "      <th>os</th>\n",
       "      <th>version</th>\n",
       "      <th>hw_revision</th>\n",
       "      <th>role</th>\n",
       "      <th>ip_address</th>\n",
       "      <th>mem_utilization</th>\n",
       "    </tr>\n",
       "  </thead>\n",
       "  <tbody>\n",
       "    <tr>\n",
       "      <th>0</th>\n",
       "      <td>1743516061</td>\n",
       "      <td>33</td>\n",
       "      <td>E-1-1</td>\n",
       "      <td>Meraki</td>\n",
       "      <td>MX450</td>\n",
       "      <td>meraki</td>\n",
       "      <td>18.10</td>\n",
       "      <td>hw-mx450-0001</td>\n",
       "      <td>vedge_hub</td>\n",
       "      <td>10.3.1.1</td>\n",
       "      <td>30.0</td>\n",
       "    </tr>\n",
       "    <tr>\n",
       "      <th>1</th>\n",
       "      <td>1743516061</td>\n",
       "      <td>32</td>\n",
       "      <td>E-1-2</td>\n",
       "      <td>Meraki</td>\n",
       "      <td>MX450</td>\n",
       "      <td>meraki</td>\n",
       "      <td>18.10</td>\n",
       "      <td>hw-mx450-0001</td>\n",
       "      <td>vedge_hub</td>\n",
       "      <td>10.3.1.2</td>\n",
       "      <td>32.0</td>\n",
       "    </tr>\n",
       "    <tr>\n",
       "      <th>2</th>\n",
       "      <td>1743516061</td>\n",
       "      <td>33</td>\n",
       "      <td>E-2-1</td>\n",
       "      <td>Meraki</td>\n",
       "      <td>MX67</td>\n",
       "      <td>meraki</td>\n",
       "      <td>16.16</td>\n",
       "      <td>hw-mx67-0001</td>\n",
       "      <td>vedge_branch</td>\n",
       "      <td>10.3.2.1</td>\n",
       "      <td>30.0</td>\n",
       "    </tr>\n",
       "    <tr>\n",
       "      <th>3</th>\n",
       "      <td>1743516061</td>\n",
       "      <td>30</td>\n",
       "      <td>E-2-2</td>\n",
       "      <td>Meraki</td>\n",
       "      <td>MX67</td>\n",
       "      <td>meraki</td>\n",
       "      <td>16.16</td>\n",
       "      <td>hw-mx67-0001</td>\n",
       "      <td>vedge_branch</td>\n",
       "      <td>10.3.2.2</td>\n",
       "      <td>31.0</td>\n",
       "    </tr>\n",
       "    <tr>\n",
       "      <th>4</th>\n",
       "      <td>1743516061</td>\n",
       "      <td>32</td>\n",
       "      <td>E-3-1</td>\n",
       "      <td>Meraki</td>\n",
       "      <td>MX67</td>\n",
       "      <td>meraki</td>\n",
       "      <td>16.16</td>\n",
       "      <td>hw-mx67-0001</td>\n",
       "      <td>vedge_branch</td>\n",
       "      <td>10.3.3.1</td>\n",
       "      <td>34.0</td>\n",
       "    </tr>\n",
       "  </tbody>\n",
       "</table>\n",
       "</div>"
      ],
      "text/plain": [
       "    timestamp  cpu_utilization device_name  vendor  model      os  version  \\\n",
       "0  1743516061               33       E-1-1  Meraki  MX450  meraki    18.10   \n",
       "1  1743516061               32       E-1-2  Meraki  MX450  meraki    18.10   \n",
       "2  1743516061               33       E-2-1  Meraki   MX67  meraki    16.16   \n",
       "3  1743516061               30       E-2-2  Meraki   MX67  meraki    16.16   \n",
       "4  1743516061               32       E-3-1  Meraki   MX67  meraki    16.16   \n",
       "\n",
       "     hw_revision          role ip_address  mem_utilization  \n",
       "0  hw-mx450-0001     vedge_hub   10.3.1.1             30.0  \n",
       "1  hw-mx450-0001     vedge_hub   10.3.1.2             32.0  \n",
       "2   hw-mx67-0001  vedge_branch   10.3.2.1             30.0  \n",
       "3   hw-mx67-0001  vedge_branch   10.3.2.2             31.0  \n",
       "4   hw-mx67-0001  vedge_branch   10.3.3.1             34.0  "
      ]
     },
     "execution_count": 35,
     "metadata": {},
     "output_type": "execute_result"
    }
   ],
   "source": [
    "data.head()"
   ]
  },
  {
   "cell_type": "code",
   "execution_count": 36,
   "metadata": {
    "colab": {
     "base_uri": "https://localhost:8080/",
     "height": 300
    },
    "id": "NmcA2YzX4AUJ",
    "outputId": "c9077abf-fc8a-4bc2-957e-a45db004938f"
   },
   "outputs": [
    {
     "data": {
      "text/html": [
       "<div>\n",
       "<style scoped>\n",
       "    .dataframe tbody tr th:only-of-type {\n",
       "        vertical-align: middle;\n",
       "    }\n",
       "\n",
       "    .dataframe tbody tr th {\n",
       "        vertical-align: top;\n",
       "    }\n",
       "\n",
       "    .dataframe thead th {\n",
       "        text-align: right;\n",
       "    }\n",
       "</style>\n",
       "<table border=\"1\" class=\"dataframe\">\n",
       "  <thead>\n",
       "    <tr style=\"text-align: right;\">\n",
       "      <th></th>\n",
       "      <th>timestamp</th>\n",
       "      <th>cpu_utilization</th>\n",
       "      <th>version</th>\n",
       "      <th>mem_utilization</th>\n",
       "    </tr>\n",
       "  </thead>\n",
       "  <tbody>\n",
       "    <tr>\n",
       "      <th>count</th>\n",
       "      <td>2.000000e+02</td>\n",
       "      <td>200.0000</td>\n",
       "      <td>200.000000</td>\n",
       "      <td>200.000000</td>\n",
       "    </tr>\n",
       "    <tr>\n",
       "      <th>mean</th>\n",
       "      <td>1.743516e+09</td>\n",
       "      <td>55.8300</td>\n",
       "      <td>16.199200</td>\n",
       "      <td>32.440000</td>\n",
       "    </tr>\n",
       "    <tr>\n",
       "      <th>std</th>\n",
       "      <td>0.000000e+00</td>\n",
       "      <td>21.3563</td>\n",
       "      <td>0.272231</td>\n",
       "      <td>4.709277</td>\n",
       "    </tr>\n",
       "    <tr>\n",
       "      <th>min</th>\n",
       "      <td>1.743516e+09</td>\n",
       "      <td>10.0000</td>\n",
       "      <td>16.160000</td>\n",
       "      <td>30.000000</td>\n",
       "    </tr>\n",
       "    <tr>\n",
       "      <th>25%</th>\n",
       "      <td>1.743516e+09</td>\n",
       "      <td>33.0000</td>\n",
       "      <td>16.160000</td>\n",
       "      <td>31.000000</td>\n",
       "    </tr>\n",
       "    <tr>\n",
       "      <th>50%</th>\n",
       "      <td>1.743516e+09</td>\n",
       "      <td>52.0000</td>\n",
       "      <td>16.160000</td>\n",
       "      <td>32.000000</td>\n",
       "    </tr>\n",
       "    <tr>\n",
       "      <th>75%</th>\n",
       "      <td>1.743516e+09</td>\n",
       "      <td>80.0000</td>\n",
       "      <td>16.160000</td>\n",
       "      <td>33.000000</td>\n",
       "    </tr>\n",
       "    <tr>\n",
       "      <th>max</th>\n",
       "      <td>1.743516e+09</td>\n",
       "      <td>81.0000</td>\n",
       "      <td>18.100000</td>\n",
       "      <td>79.000000</td>\n",
       "    </tr>\n",
       "  </tbody>\n",
       "</table>\n",
       "</div>"
      ],
      "text/plain": [
       "          timestamp  cpu_utilization     version  mem_utilization\n",
       "count  2.000000e+02         200.0000  200.000000       200.000000\n",
       "mean   1.743516e+09          55.8300   16.199200        32.440000\n",
       "std    0.000000e+00          21.3563    0.272231         4.709277\n",
       "min    1.743516e+09          10.0000   16.160000        30.000000\n",
       "25%    1.743516e+09          33.0000   16.160000        31.000000\n",
       "50%    1.743516e+09          52.0000   16.160000        32.000000\n",
       "75%    1.743516e+09          80.0000   16.160000        33.000000\n",
       "max    1.743516e+09          81.0000   18.100000        79.000000"
      ]
     },
     "execution_count": 36,
     "metadata": {},
     "output_type": "execute_result"
    }
   ],
   "source": [
    "data.describe()"
   ]
  },
  {
   "cell_type": "code",
   "execution_count": 37,
   "metadata": {
    "colab": {
     "base_uri": "https://localhost:8080/",
     "height": 447
    },
    "id": "ocjeZPvI4JMR",
    "outputId": "37921b90-3604-40a4-ee1d-9e5de305d724"
   },
   "outputs": [
    {
     "name": "stdout",
     "output_type": "stream",
     "text": [
      "Missing Values\n"
     ]
    },
    {
     "data": {
      "text/plain": [
       "timestamp          0\n",
       "cpu_utilization    0\n",
       "device_name        0\n",
       "vendor             0\n",
       "model              0\n",
       "os                 0\n",
       "version            0\n",
       "hw_revision        0\n",
       "role               0\n",
       "ip_address         0\n",
       "mem_utilization    0\n",
       "dtype: int64"
      ]
     },
     "execution_count": 37,
     "metadata": {},
     "output_type": "execute_result"
    }
   ],
   "source": [
    "print(\"Missing Values\")\n",
    "data.isnull().sum()"
   ]
  },
  {
   "cell_type": "code",
   "execution_count": 38,
   "metadata": {
    "colab": {
     "base_uri": "https://localhost:8080/"
    },
    "id": "4BVsiexP4Qdg",
    "outputId": "ae1b86cd-d672-4d5d-b6d5-d2faf8136b77"
   },
   "outputs": [
    {
     "name": "stdout",
     "output_type": "stream",
     "text": [
      "Duplicated Rows\n"
     ]
    },
    {
     "data": {
      "text/plain": [
       "0"
      ]
     },
     "execution_count": 38,
     "metadata": {},
     "output_type": "execute_result"
    }
   ],
   "source": [
    "print(\"Duplicated Rows\")\n",
    "data.duplicated().sum()"
   ]
  },
  {
   "cell_type": "code",
   "execution_count": 39,
   "metadata": {
    "colab": {
     "base_uri": "https://localhost:8080/"
    },
    "id": "tPvQ8oI0DUdH",
    "outputId": "dee81d44-77c1-4a12-8070-eba561d6a015"
   },
   "outputs": [
    {
     "name": "stdout",
     "output_type": "stream",
     "text": [
      "Columns with a single unique value: ['timestamp', 'vendor', 'os']\n"
     ]
    }
   ],
   "source": [
    "# names of columns with only duplicated values (single unique value)\n",
    "single_value_cols = []\n",
    "for col in data.columns:\n",
    "    num_duplicates = data[col].duplicated().sum()\n",
    "    total_values = data.shape[0]\n",
    "    if num_duplicates == total_values - 1 and total_values > 1:\n",
    "        single_value_cols.append(col)\n",
    "\n",
    "print(f\"Columns with a single unique value: {single_value_cols}\")"
   ]
  },
  {
   "cell_type": "code",
   "execution_count": 40,
   "metadata": {
    "colab": {
     "base_uri": "https://localhost:8080/"
    },
    "id": "zunzGbTC4eXs",
    "outputId": "5f96b541-57de-4d83-c748-b5a001b3fdce"
   },
   "outputs": [
    {
     "name": "stdout",
     "output_type": "stream",
     "text": [
      "Columns with only different values: ['device_name', 'ip_address']\n"
     ]
    }
   ],
   "source": [
    "unique_cols = [col for col in data.columns if data[col].nunique() == data.shape[0]]\n",
    "print(f\"Columns with only different values: {unique_cols}\")"
   ]
  },
  {
   "cell_type": "code",
   "execution_count": 41,
   "metadata": {
    "colab": {
     "base_uri": "https://localhost:8080/",
     "height": 429
    },
    "id": "wzkuy04L9mfG",
    "outputId": "08df8aba-9b81-4f61-c001-5a41cf5cb849"
   },
   "outputs": [
    {
     "data": {
      "text/plain": [
       "timestamp            1743516061\n",
       "cpu_utilization              32\n",
       "device_name              E-26-1\n",
       "vendor                   Meraki\n",
       "model                      MX67\n",
       "os                       meraki\n",
       "version                   16.16\n",
       "hw_revision        hw-mx67-0001\n",
       "role               vedge_branch\n",
       "ip_address            10.3.26.1\n",
       "mem_utilization            33.0\n",
       "Name: 50, dtype: object"
      ]
     },
     "execution_count": 41,
     "metadata": {},
     "output_type": "execute_result"
    }
   ],
   "source": [
    "data.iloc[50]"
   ]
  },
  {
   "cell_type": "code",
   "execution_count": 42,
   "metadata": {
    "colab": {
     "base_uri": "https://localhost:8080/",
     "height": 369
    },
    "id": "-kIf6lrS9tIp",
    "outputId": "34ac9e21-87b9-47a9-d205-5dfea1ef4730"
   },
   "outputs": [
    {
     "data": {
      "text/html": [
       "<div>\n",
       "<style scoped>\n",
       "    .dataframe tbody tr th:only-of-type {\n",
       "        vertical-align: middle;\n",
       "    }\n",
       "\n",
       "    .dataframe tbody tr th {\n",
       "        vertical-align: top;\n",
       "    }\n",
       "\n",
       "    .dataframe thead th {\n",
       "        text-align: right;\n",
       "    }\n",
       "</style>\n",
       "<table border=\"1\" class=\"dataframe\">\n",
       "  <thead>\n",
       "    <tr style=\"text-align: right;\">\n",
       "      <th></th>\n",
       "      <th>timestamp</th>\n",
       "      <th>cpu_utilization</th>\n",
       "      <th>device_name</th>\n",
       "      <th>vendor</th>\n",
       "      <th>model</th>\n",
       "      <th>os</th>\n",
       "      <th>version</th>\n",
       "      <th>hw_revision</th>\n",
       "      <th>role</th>\n",
       "      <th>ip_address</th>\n",
       "      <th>mem_utilization</th>\n",
       "    </tr>\n",
       "  </thead>\n",
       "  <tbody>\n",
       "    <tr>\n",
       "      <th>1</th>\n",
       "      <td>1743516061</td>\n",
       "      <td>32</td>\n",
       "      <td>E-1-2</td>\n",
       "      <td>Meraki</td>\n",
       "      <td>MX450</td>\n",
       "      <td>meraki</td>\n",
       "      <td>18.10</td>\n",
       "      <td>hw-mx450-0001</td>\n",
       "      <td>vedge_hub</td>\n",
       "      <td>10.3.1.2</td>\n",
       "      <td>32.0</td>\n",
       "    </tr>\n",
       "    <tr>\n",
       "      <th>2</th>\n",
       "      <td>1743516061</td>\n",
       "      <td>33</td>\n",
       "      <td>E-2-1</td>\n",
       "      <td>Meraki</td>\n",
       "      <td>MX67</td>\n",
       "      <td>meraki</td>\n",
       "      <td>16.16</td>\n",
       "      <td>hw-mx67-0001</td>\n",
       "      <td>vedge_branch</td>\n",
       "      <td>10.3.2.1</td>\n",
       "      <td>30.0</td>\n",
       "    </tr>\n",
       "    <tr>\n",
       "      <th>3</th>\n",
       "      <td>1743516061</td>\n",
       "      <td>30</td>\n",
       "      <td>E-2-2</td>\n",
       "      <td>Meraki</td>\n",
       "      <td>MX67</td>\n",
       "      <td>meraki</td>\n",
       "      <td>16.16</td>\n",
       "      <td>hw-mx67-0001</td>\n",
       "      <td>vedge_branch</td>\n",
       "      <td>10.3.2.2</td>\n",
       "      <td>31.0</td>\n",
       "    </tr>\n",
       "    <tr>\n",
       "      <th>4</th>\n",
       "      <td>1743516061</td>\n",
       "      <td>32</td>\n",
       "      <td>E-3-1</td>\n",
       "      <td>Meraki</td>\n",
       "      <td>MX67</td>\n",
       "      <td>meraki</td>\n",
       "      <td>16.16</td>\n",
       "      <td>hw-mx67-0001</td>\n",
       "      <td>vedge_branch</td>\n",
       "      <td>10.3.3.1</td>\n",
       "      <td>34.0</td>\n",
       "    </tr>\n",
       "    <tr>\n",
       "      <th>5</th>\n",
       "      <td>1743516061</td>\n",
       "      <td>30</td>\n",
       "      <td>E-3-2</td>\n",
       "      <td>Meraki</td>\n",
       "      <td>MX67</td>\n",
       "      <td>meraki</td>\n",
       "      <td>16.16</td>\n",
       "      <td>hw-mx67-0001</td>\n",
       "      <td>vedge_branch</td>\n",
       "      <td>10.3.3.2</td>\n",
       "      <td>33.0</td>\n",
       "    </tr>\n",
       "    <tr>\n",
       "      <th>6</th>\n",
       "      <td>1743516061</td>\n",
       "      <td>30</td>\n",
       "      <td>E-4-1</td>\n",
       "      <td>Meraki</td>\n",
       "      <td>MX67</td>\n",
       "      <td>meraki</td>\n",
       "      <td>16.16</td>\n",
       "      <td>hw-mx67-0001</td>\n",
       "      <td>vedge_branch</td>\n",
       "      <td>10.3.4.1</td>\n",
       "      <td>31.0</td>\n",
       "    </tr>\n",
       "    <tr>\n",
       "      <th>7</th>\n",
       "      <td>1743516061</td>\n",
       "      <td>30</td>\n",
       "      <td>E-4-2</td>\n",
       "      <td>Meraki</td>\n",
       "      <td>MX67</td>\n",
       "      <td>meraki</td>\n",
       "      <td>16.16</td>\n",
       "      <td>hw-mx67-0001</td>\n",
       "      <td>vedge_branch</td>\n",
       "      <td>10.3.4.2</td>\n",
       "      <td>34.0</td>\n",
       "    </tr>\n",
       "    <tr>\n",
       "      <th>8</th>\n",
       "      <td>1743516061</td>\n",
       "      <td>32</td>\n",
       "      <td>E-5-1</td>\n",
       "      <td>Meraki</td>\n",
       "      <td>MX67</td>\n",
       "      <td>meraki</td>\n",
       "      <td>16.16</td>\n",
       "      <td>hw-mx67-0001</td>\n",
       "      <td>vedge_branch</td>\n",
       "      <td>10.3.5.1</td>\n",
       "      <td>33.0</td>\n",
       "    </tr>\n",
       "    <tr>\n",
       "      <th>9</th>\n",
       "      <td>1743516061</td>\n",
       "      <td>34</td>\n",
       "      <td>E-5-2</td>\n",
       "      <td>Meraki</td>\n",
       "      <td>MX67</td>\n",
       "      <td>meraki</td>\n",
       "      <td>16.16</td>\n",
       "      <td>hw-mx67-0001</td>\n",
       "      <td>vedge_branch</td>\n",
       "      <td>10.3.5.2</td>\n",
       "      <td>34.0</td>\n",
       "    </tr>\n",
       "  </tbody>\n",
       "</table>\n",
       "</div>"
      ],
      "text/plain": [
       "    timestamp  cpu_utilization device_name  vendor  model      os  version  \\\n",
       "1  1743516061               32       E-1-2  Meraki  MX450  meraki    18.10   \n",
       "2  1743516061               33       E-2-1  Meraki   MX67  meraki    16.16   \n",
       "3  1743516061               30       E-2-2  Meraki   MX67  meraki    16.16   \n",
       "4  1743516061               32       E-3-1  Meraki   MX67  meraki    16.16   \n",
       "5  1743516061               30       E-3-2  Meraki   MX67  meraki    16.16   \n",
       "6  1743516061               30       E-4-1  Meraki   MX67  meraki    16.16   \n",
       "7  1743516061               30       E-4-2  Meraki   MX67  meraki    16.16   \n",
       "8  1743516061               32       E-5-1  Meraki   MX67  meraki    16.16   \n",
       "9  1743516061               34       E-5-2  Meraki   MX67  meraki    16.16   \n",
       "\n",
       "     hw_revision          role ip_address  mem_utilization  \n",
       "1  hw-mx450-0001     vedge_hub   10.3.1.2             32.0  \n",
       "2   hw-mx67-0001  vedge_branch   10.3.2.1             30.0  \n",
       "3   hw-mx67-0001  vedge_branch   10.3.2.2             31.0  \n",
       "4   hw-mx67-0001  vedge_branch   10.3.3.1             34.0  \n",
       "5   hw-mx67-0001  vedge_branch   10.3.3.2             33.0  \n",
       "6   hw-mx67-0001  vedge_branch   10.3.4.1             31.0  \n",
       "7   hw-mx67-0001  vedge_branch   10.3.4.2             34.0  \n",
       "8   hw-mx67-0001  vedge_branch   10.3.5.1             33.0  \n",
       "9   hw-mx67-0001  vedge_branch   10.3.5.2             34.0  "
      ]
     },
     "execution_count": 42,
     "metadata": {},
     "output_type": "execute_result"
    }
   ],
   "source": [
    "data.iloc[1:10]"
   ]
  },
  {
   "cell_type": "code",
   "execution_count": 43,
   "metadata": {
    "colab": {
     "base_uri": "https://localhost:8080/",
     "height": 729
    },
    "id": "MGXezYRFF3t8",
    "outputId": "b24ac078-d220-4dca-f47f-38b0fd8ada19"
   },
   "outputs": [
    {
     "name": "stdout",
     "output_type": "stream",
     "text": [
      "Dropped 'timestamp' column.\n"
     ]
    },
    {
     "data": {
      "image/png": "[encoded data removed]",
      "text/plain": [
       "<Figure size 1200x1000 with 2 Axes>"
      ]
     },
     "metadata": {},
     "output_type": "display_data"
    }
   ],
   "source": [
    "datac = data.copy()\n",
    "\n",
    "# Drop the 'timestamp' column as it's not relevant for correlation calculation\n",
    "if 'timestamp' in datac.columns:\n",
    "    datac = datac.drop('timestamp', axis=1)\n",
    "    print(\"Dropped 'timestamp' column.\") # Optional: Add a print statement to confirm\n",
    "\n",
    "# Select only numeric columns for correlation calculation\n",
    "# This will automatically exclude any remaining non-numeric columns\n",
    "numeric_datac = datac.select_dtypes(include=np.number)\n",
    "\n",
    "# Check if there are any numeric columns left before calculating correlation\n",
    "if not numeric_datac.empty:\n",
    "    correlation_matrix = numeric_datac.corr()\n",
    "    plt.figure(figsize=(12, 10))\n",
    "    sns.heatmap(correlation_matrix, annot=True, cmap='coolwarm', fmt=\".2f\")\n",
    "    plt.title(\"Correlation Matrix (Numeric Columns)\")\n",
    "    plt.show()\n",
    "else:\n",
    "    print(\"No numeric columns found to calculate correlation after dropping 'timestamp'.\")"
   ]
  },
  {
   "cell_type": "code",
   "execution_count": 44,
   "metadata": {
    "id": "hEqwWV0K6GzK"
   },
   "outputs": [],
   "source": [
    "%matplotlib inline"
   ]
  },
  {
   "cell_type": "code",
   "execution_count": 45,
   "metadata": {
    "colab": {
     "base_uri": "https://localhost:8080/",
     "height": 327
    },
    "id": "OxCsqe2u6Lij",
    "outputId": "06a01b53-6c7d-43cb-c851-112b4aa56889"
   },
   "outputs": [
    {
     "data": {
      "image/png": "[encoded data removed]",
      "text/plain": [
       "<Figure size 1600x600 with 1 Axes>"
      ]
     },
     "metadata": {},
     "output_type": "display_data"
    }
   ],
   "source": [
    "plt.figure(figsize=(16,6))\n",
    "\n",
    "plot_data = data['cpu_utilization'].value_counts()\n",
    "x = plot_data.index\n",
    "y = plot_data.values\n",
    "\n",
    "plt.bar(x,y)\n",
    "plt.title('CPU Utilization')\n",
    "plt.xticks(rotation=90)\n",
    "\n",
    "plt.show()"
   ]
  },
  {
   "cell_type": "code",
   "execution_count": 46,
   "metadata": {
    "colab": {
     "base_uri": "https://localhost:8080/",
     "height": 327
    },
    "id": "qD26PXnfKAwY",
    "outputId": "5f25d1c8-8467-44c8-fa0e-d4ddc34675ae"
   },
   "outputs": [
    {
     "data": {
      "image/png": "[encoded data removed]",
      "text/plain": [
       "<Figure size 1600x600 with 1 Axes>"
      ]
     },
     "metadata": {},
     "output_type": "display_data"
    }
   ],
   "source": [
    "plt.figure(figsize=(16,6))\n",
    "\n",
    "plot_data = data['mem_utilization'].value_counts()\n",
    "x = plot_data.index\n",
    "y = plot_data.values\n",
    "\n",
    "plt.bar(x,y)\n",
    "plt.title('Memory Utilization')\n",
    "plt.xticks(rotation=90)\n",
    "\n",
    "plt.show()"
   ]
  },
  {
   "cell_type": "code",
   "execution_count": 47,
   "metadata": {
    "colab": {
     "base_uri": "https://localhost:8080/",
     "height": 365
    },
    "id": "5gk551JzKkNL",
    "outputId": "af0f5700-a715-436b-c1a0-435f4fd60965"
   },
   "outputs": [
    {
     "data": {
      "image/png": "[encoded data removed]",
      "text/plain": [
       "<Figure size 1500x700 with 1 Axes>"
      ]
     },
     "metadata": {},
     "output_type": "display_data"
    }
   ],
   "source": [
    "## Analyzing CPU Utilization by Software Version\n",
    "\n",
    "# Create a box plot to show the distribution of CPU utilization for each software version.\n",
    "# Box plots are useful for visualizing the distribution, median, and potential outliers\n",
    "# of a numerical variable across different categories.\n",
    "plt.figure(figsize=(15, 7))\n",
    "sns.boxplot(x='version', y='cpu_utilization', data=data)\n",
    "plt.title('CPU Utilization by Software Version')\n",
    "plt.xlabel('Software Version')\n",
    "plt.ylabel('CPU Utilization (%)')\n",
    "plt.xticks(rotation=45, ha='right')\n",
    "plt.tight_layout()\n",
    "plt.show()"
   ]
  },
  {
   "cell_type": "code",
   "execution_count": 48,
   "metadata": {
    "colab": {
     "base_uri": "https://localhost:8080/",
     "height": 365
    },
    "id": "03P9x0N9OKOA",
    "outputId": "82783768-b4f4-4ade-e44f-3be4b11c7047"
   },
   "outputs": [
    {
     "data": {
      "image/png": "[encoded data removed]",
      "text/plain": [
       "<Figure size 1500x700 with 1 Axes>"
      ]
     },
     "metadata": {},
     "output_type": "display_data"
    }
   ],
   "source": [
    "## Analyzing Memory Utilization by Software Version\n",
    "\n",
    "# Create a box plot to show the distribution of CPU utilization for each software version.\n",
    "# Box plots are useful for visualizing the distribution, median, and potential outliers\n",
    "# of a numerical variable across different categories.\n",
    "plt.figure(figsize=(15, 7))\n",
    "sns.boxplot(x='version', y='mem_utilization', data=data)\n",
    "plt.title('Memory Utilization by Software Version')\n",
    "plt.xlabel('Software Version')\n",
    "plt.ylabel('Memory Utilization (%)')\n",
    "plt.xticks(rotation=45, ha='right')\n",
    "plt.tight_layout()\n",
    "plt.show()"
   ]
  },
  {
   "cell_type": "code",
   "execution_count": 49,
   "metadata": {
    "colab": {
     "base_uri": "https://localhost:8080/",
     "height": 564
    },
    "id": "BviJBYmR9Caf",
    "outputId": "3f27ddab-35ac-4f7a-c99a-3459f5e03af9"
   },
   "outputs": [
    {
     "data": {
      "image/png": "[encoded data removed]",
      "text/plain": [
       "<Figure size 600x600 with 1 Axes>"
      ]
     },
     "metadata": {},
     "output_type": "display_data"
    }
   ],
   "source": [
    "plt.figure(figsize=(6,6))\n",
    "\n",
    "x = data['mem_utilization']\n",
    "y = data['cpu_utilization']\n",
    "forma = '*'\n",
    "\n",
    "plt.plot(x,y,forma, color='blue')\n",
    "plt.title('mem vs cpu')\n",
    "plt.xlabel('memory')\n",
    "plt.ylabel('cpu')\n",
    "plt.show()"
   ]
  },
  {
   "cell_type": "markdown",
   "metadata": {
    "id": "mNIvtHxDSp1F"
   },
   "source": [
    "End of exploratory data analysis"
   ]
  },
  {
   "cell_type": "code",
   "execution_count": null,
   "metadata": {},
   "outputs": [],
   "source": []
  }
 ],
 "metadata": {
  "colab": {
   "provenance": []
  },
  "kernelspec": {
   "display_name": "Python 3 (ipykernel)",
   "language": "python",
   "name": "python3"
  },
  "language_info": {
   "codemirror_mode": {
    "name": "ipython",
    "version": 3
   },
   "file_extension": ".py",
   "mimetype": "text/x-python",
   "name": "python",
   "nbconvert_exporter": "python",
   "pygments_lexer": "ipython3",
   "version": "3.11.12"
  }
 },
 "nbformat": 4,
 "nbformat_minor": 4
}
