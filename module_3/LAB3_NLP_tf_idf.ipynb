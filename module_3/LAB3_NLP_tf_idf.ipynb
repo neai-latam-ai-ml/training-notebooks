{
  "nbformat": 4,
  "nbformat_minor": 0,
  "metadata": {
    "colab": {
      "provenance": []
    },
    "kernelspec": {
      "name": "python3",
      "display_name": "Python 3"
    },
    "language_info": {
      "name": "python"
    }
  },
  "cells": [
    {
      "cell_type": "code",
      "execution_count": null,
      "metadata": {
        "id": "CnhYMg9ORP3B"
      },
      "outputs": [],
      "source": [
        "from sklearn.feature_extraction.text import TfidfVectorizer\n",
        "from pprint import pprint\n",
        "import pandas as pd\n",
        "import numpy as np"
      ]
    },
    {
      "cell_type": "code",
      "source": [
        "corpus = [\n",
        "    \"Thor eating pizza, Loki is eating pizza, Ironman ate pizza already\",\n",
        "    \"Apple is announcing new iphone tomorrow\",\n",
        "    \"Tesla is announcing new model-3 tomorrow\",\n",
        "    \"Google is announcing new pixel-6 tomorrow\",\n",
        "    \"Microsoft is announcing new surface tomorrow\",\n",
        "    \"Amazon is announcing new eco-dot tomorrow\",\n",
        "    \"I am eating an orange you are eating grapes\"\n",
        "]\n",
        "\n",
        "v = TfidfVectorizer()\n",
        "v.fit(corpus)\n",
        "transform_output = v.transform(corpus)\n",
        "\n",
        "pprint(v.vocabulary_)"
      ],
      "metadata": {
        "colab": {
          "base_uri": "https://localhost:8080/"
        },
        "id": "UPCp6Fyccsw9",
        "outputId": "208d7bac-5557-4581-e698-461daab0e2f7"
      },
      "execution_count": null,
      "outputs": [
        {
          "output_type": "stream",
          "name": "stdout",
          "text": [
            "{'already': 0,\n",
            " 'am': 1,\n",
            " 'amazon': 2,\n",
            " 'an': 3,\n",
            " 'announcing': 4,\n",
            " 'apple': 5,\n",
            " 'are': 6,\n",
            " 'ate': 7,\n",
            " 'dot': 8,\n",
            " 'eating': 9,\n",
            " 'eco': 10,\n",
            " 'google': 11,\n",
            " 'grapes': 12,\n",
            " 'iphone': 13,\n",
            " 'ironman': 14,\n",
            " 'is': 15,\n",
            " 'loki': 16,\n",
            " 'microsoft': 17,\n",
            " 'model': 18,\n",
            " 'new': 19,\n",
            " 'orange': 20,\n",
            " 'pixel': 21,\n",
            " 'pizza': 22,\n",
            " 'surface': 23,\n",
            " 'tesla': 24,\n",
            " 'thor': 25,\n",
            " 'tomorrow': 26,\n",
            " 'you': 27}\n"
          ]
        }
      ]
    },
    {
      "cell_type": "code",
      "source": [
        "i = v.vocabulary_.get('thor')\n",
        "print(i)\n",
        "print(v.idf_[i])"
      ],
      "metadata": {
        "colab": {
          "base_uri": "https://localhost:8080/"
        },
        "id": "14fNxDKDeBoi",
        "outputId": "5bc02b1a-0bcc-4a08-d208-a626e3b303ca"
      },
      "execution_count": null,
      "outputs": [
        {
          "output_type": "stream",
          "name": "stdout",
          "text": [
            "25\n",
            "2.386294361119891\n"
          ]
        }
      ]
    },
    {
      "cell_type": "code",
      "source": [
        "#Print the idf of each word\n",
        "\n",
        "all_feature_names = v.get_feature_names_out()\n",
        "\n",
        "for word in all_feature_names:\n",
        "  indx = v.vocabulary_.get(word)\n",
        "\n",
        "  #get the score\n",
        "  idf_score = v.idf_[indx]\n",
        "  print(f\"{word}: {idf_score}\")\n"
      ],
      "metadata": {
        "colab": {
          "base_uri": "https://localhost:8080/"
        },
        "id": "Xxn9-GQwd0j1",
        "outputId": "817efcae-63bd-4c97-c91c-5fc0c76525f2"
      },
      "execution_count": null,
      "outputs": [
        {
          "output_type": "stream",
          "name": "stdout",
          "text": [
            "already: 2.386294361119891\n",
            "am: 2.386294361119891\n",
            "amazon: 2.386294361119891\n",
            "an: 2.386294361119891\n",
            "announcing: 1.2876820724517808\n",
            "apple: 2.386294361119891\n",
            "are: 2.386294361119891\n",
            "ate: 2.386294361119891\n",
            "dot: 2.386294361119891\n",
            "eating: 1.9808292530117262\n",
            "eco: 2.386294361119891\n",
            "google: 2.386294361119891\n",
            "grapes: 2.386294361119891\n",
            "iphone: 2.386294361119891\n",
            "ironman: 2.386294361119891\n",
            "is: 1.1335313926245225\n",
            "loki: 2.386294361119891\n",
            "microsoft: 2.386294361119891\n",
            "model: 2.386294361119891\n",
            "new: 1.2876820724517808\n",
            "orange: 2.386294361119891\n",
            "pixel: 2.386294361119891\n",
            "pizza: 2.386294361119891\n",
            "surface: 2.386294361119891\n",
            "tesla: 2.386294361119891\n",
            "thor: 2.386294361119891\n",
            "tomorrow: 1.2876820724517808\n",
            "you: 2.386294361119891\n"
          ]
        }
      ]
    },
    {
      "cell_type": "code",
      "source": [
        "# Print the transformed output from tf-idf\n",
        "print(transform_output.toarray())"
      ],
      "metadata": {
        "colab": {
          "base_uri": "https://localhost:8080/"
        },
        "id": "LX_Xb21GfUmh",
        "outputId": "6571e7c8-e8c4-433c-ef07-1a692077ccbd"
      },
      "execution_count": null,
      "outputs": [
        {
          "output_type": "stream",
          "name": "stdout",
          "text": [
            "[[0.24266547 0.         0.         0.         0.         0.\n",
            "  0.         0.24266547 0.         0.40286636 0.         0.\n",
            "  0.         0.         0.24266547 0.11527033 0.24266547 0.\n",
            "  0.         0.         0.         0.         0.72799642 0.\n",
            "  0.         0.24266547 0.         0.        ]\n",
            " [0.         0.         0.         0.         0.30652086 0.5680354\n",
            "  0.         0.         0.         0.         0.         0.\n",
            "  0.         0.5680354  0.         0.26982671 0.         0.\n",
            "  0.         0.30652086 0.         0.         0.         0.\n",
            "  0.         0.         0.30652086 0.        ]\n",
            " [0.         0.         0.         0.         0.30652086 0.\n",
            "  0.         0.         0.         0.         0.         0.\n",
            "  0.         0.         0.         0.26982671 0.         0.\n",
            "  0.5680354  0.30652086 0.         0.         0.         0.\n",
            "  0.5680354  0.         0.30652086 0.        ]\n",
            " [0.         0.         0.         0.         0.30652086 0.\n",
            "  0.         0.         0.         0.         0.         0.5680354\n",
            "  0.         0.         0.         0.26982671 0.         0.\n",
            "  0.         0.30652086 0.         0.5680354  0.         0.\n",
            "  0.         0.         0.30652086 0.        ]\n",
            " [0.         0.         0.         0.         0.30652086 0.\n",
            "  0.         0.         0.         0.         0.         0.\n",
            "  0.         0.         0.         0.26982671 0.         0.5680354\n",
            "  0.         0.30652086 0.         0.         0.         0.5680354\n",
            "  0.         0.         0.30652086 0.        ]\n",
            " [0.         0.         0.49391316 0.         0.26652333 0.\n",
            "  0.         0.         0.49391316 0.         0.49391316 0.\n",
            "  0.         0.         0.         0.23461736 0.         0.\n",
            "  0.         0.26652333 0.         0.         0.         0.\n",
            "  0.         0.         0.26652333 0.        ]\n",
            " [0.         0.33794257 0.         0.33794257 0.         0.\n",
            "  0.33794257 0.         0.         0.56104271 0.         0.\n",
            "  0.33794257 0.         0.         0.         0.         0.\n",
            "  0.         0.         0.33794257 0.         0.         0.\n",
            "  0.         0.         0.         0.33794257]]\n"
          ]
        }
      ]
    }
  ]
}