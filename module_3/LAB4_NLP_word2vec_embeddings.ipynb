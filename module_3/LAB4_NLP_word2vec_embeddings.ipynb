{
 "cells": [
  {
   "cell_type": "markdown",
   "id": "202b2c90",
   "metadata": {},
   "source": [
    "## **Install required libraries**\n"
   ]
  },
  {
   "cell_type": "code",
   "execution_count": null,
   "id": "39b44d4e",
   "metadata": {},
   "outputs": [],
   "source": [
    "!pip install torch==2.5.1"
   ]
  },
  {
   "cell_type": "code",
   "execution_count": null,
   "id": "021efecd-68d3-48be-9b30-3a4626ea93cd",
   "metadata": {},
   "outputs": [],
   "source": [
    "!pip install numpy>=2.0.0 -U --pre\n",
    "!pip install scipy>=1.14.0 -U\n",
    "!pip install gensim -U"
   ]
  },
  {
   "cell_type": "markdown",
   "id": "168ca344",
   "metadata": {},
   "source": [
    "## **Import required libraries**\n"
   ]
  },
  {
   "cell_type": "code",
   "execution_count": null,
   "id": "af6df38e-7665-4e19-b8c0-e75531738e8c",
   "metadata": {},
   "outputs": [],
   "source": [
    "import gensim\n",
    "import gensim.downloader as api\n",
    "from gensim.models import KeyedVectors\n",
    "\n",
    "import seaborn as sns\n",
    "import numpy as np\n",
    "import pandas as pd\n",
    "import matplotlib.pyplot as plt"
   ]
  },
  {
   "cell_type": "markdown",
   "id": "a1eaa895",
   "metadata": {},
   "source": [
    "## **Download and load word2vec-google-news-300 model**\n"
   ]
  },
  {
   "cell_type": "code",
   "execution_count": null,
   "id": "82a804ce-fb7d-4221-950e-ef2562180141",
   "metadata": {},
   "outputs": [],
   "source": [
    "\n",
    "try:\n",
    "    # Download and load the Google News Word2Vec model\n",
    "    # This will download the compressed file and extract it for you\n",
    "    print(\"Attempting to load word2vec-google-news-300 model...\")\n",
    "    model_path = api.load(\"word2vec-google-news-300\", return_path=True)\n",
    "    model = KeyedVectors.load_word2vec_format(model_path, binary=True)\n",
    "    print(\"Model loaded successfully using gensim.downloader!\")\n",
    "\n",
    "except Exception as e:\n",
    "    print(f\"An error occurred: {e}\")\n",
    "    print(\"Please ensure your NumPy and Gensim libraries are up to date.\")\n",
    "    print(\"Try running: pip install --upgrade numpy gensim\")"
   ]
  },
  {
   "cell_type": "markdown",
   "id": "a2f97c59",
   "metadata": {},
   "source": [
    "## \\*\\*Test example - Find the most similar\n"
   ]
  },
  {
   "cell_type": "code",
   "execution_count": null,
   "id": "a192f8f1",
   "metadata": {},
   "outputs": [],
   "source": [
    "print(\"Finding most similar words to 'woman':\")\n",
    "print(model.most_similar('woman'))"
   ]
  },
  {
   "cell_type": "markdown",
   "id": "05a7c5dd",
   "metadata": {},
   "source": [
    "## **Get the array for man**\n"
   ]
  },
  {
   "cell_type": "code",
   "execution_count": null,
   "id": "fafa8ecc-7a81-4d31-8bda-9fa3cfd3e692",
   "metadata": {},
   "outputs": [],
   "source": [
    "model['man']"
   ]
  },
  {
   "cell_type": "markdown",
   "id": "fdc72031",
   "metadata": {},
   "source": [
    "## **Print how many features (based on the model)**\n"
   ]
  },
  {
   "cell_type": "code",
   "execution_count": null,
   "id": "691d24c5-5cf2-45b3-a726-82409f4b6e46",
   "metadata": {},
   "outputs": [],
   "source": [
    "model['man'].shape #300 features (300 dimentions)"
   ]
  },
  {
   "cell_type": "markdown",
   "id": "4543d30c",
   "metadata": {},
   "source": [
    "## **Examples**\n"
   ]
  },
  {
   "cell_type": "code",
   "execution_count": null,
   "id": "1ada5bae-8e2a-4103-8120-290fafd3d5bf",
   "metadata": {},
   "outputs": [],
   "source": [
    "model.most_similar('man')"
   ]
  },
  {
   "cell_type": "code",
   "execution_count": null,
   "id": "f23c6be1-0e3e-4211-abb9-ec2aba80586c",
   "metadata": {},
   "outputs": [],
   "source": [
    "model.most_similar('BGP')"
   ]
  },
  {
   "cell_type": "code",
   "execution_count": null,
   "id": "db8c5d92-6b86-40e6-88d1-7829a7e63c00",
   "metadata": {},
   "outputs": [],
   "source": [
    "model.similarity('man', 'woman')"
   ]
  },
  {
   "cell_type": "code",
   "execution_count": null,
   "id": "97ec86f1-3279-4790-b92c-f99a3b735919",
   "metadata": {},
   "outputs": [],
   "source": [
    "model.doesnt_match(['BGP', 'OSPF', 'ISIS', 'apple'])"
   ]
  },
  {
   "cell_type": "code",
   "execution_count": null,
   "id": "3a617759-d7e8-48e9-9b5c-987f20f184d2",
   "metadata": {},
   "outputs": [],
   "source": [
    "vec = model['king'] - model['man'] + model['woman']\n",
    "model.most_similar([vec])"
   ]
  },
  {
   "cell_type": "markdown",
   "id": "3277ff29",
   "metadata": {},
   "source": [
    "## **Get embeddings (the first 10 features) for a set of words**\n",
    "\n",
    "Get embeddings limited to the first 10 features.\n",
    "Create an array with them.\n",
    "Create a pandas data frame using the features and the words.\n"
   ]
  },
  {
   "cell_type": "code",
   "execution_count": null,
   "id": "0a34499f-2875-4379-9d04-3743301da325",
   "metadata": {},
   "outputs": [],
   "source": [
    "\n",
    "# king, queen, woman, girl, man, water\n",
    "words = ['king', 'queen', 'woman', 'girl', 'man', 'water']\n",
    "embeddings = np.array([\n",
    "    model['king'][0:10],\n",
    "    model['queen'][0:10],\n",
    "    model['woman'][0:10],\n",
    "    model['girl'][0:10],\n",
    "    model['man'][0:10],\n",
    "    model['water'][0:10]\n",
    "])\n",
    "\n",
    "df = pd.DataFrame(embeddings, index=words)"
   ]
  },
  {
   "cell_type": "markdown",
   "id": "dc5c68e0",
   "metadata": {},
   "source": [
    "## **Generate the plot based on the dataframe generated**\n"
   ]
  },
  {
   "cell_type": "code",
   "execution_count": null,
   "id": "237cc880-f78a-43a6-96bd-fc04c24c0f4d",
   "metadata": {},
   "outputs": [],
   "source": [
    "#Create a hashmap\n",
    "plt.figure(figsize=(18,16))\n",
    "heatmap = sns.heatmap(df, cmap='crest')\n",
    "plt.show()"
   ]
  }
 ],
 "metadata": {
  "kernelspec": {
   "display_name": "Python 3 (ipykernel)",
   "language": "python",
   "name": "python3"
  },
  "language_info": {
   "codemirror_mode": {
    "name": "ipython",
    "version": 3
   },
   "file_extension": ".py",
   "mimetype": "text/x-python",
   "name": "python",
   "nbconvert_exporter": "python",
   "pygments_lexer": "ipython3",
   "version": "3.11.12"
  }
 },
 "nbformat": 4,
 "nbformat_minor": 5
}
