{
 "cells": [
  {
   "cell_type": "markdown",
   "metadata": {
    "vscode": {
     "languageId": "markdown"
    }
   },
   "source": [
    "# Network Engineering in the AI Era\n",
    "\n",
    "## Module 4.2 - Introduction to Agentic AI\n",
    "\n",
    "Welcome to this module on Agentic AI using LangGraph!\n",
    "In this notebook, we'll explore what agents are, how they operate, and build a practical example of an AI agent that can help with network configuration tasks.\n",
    "\n",
    "### What are AI Agents?\n",
    "\n",
    "AI agents are autonomous or semi-autonomous systems that can:\n",
    "\n",
    "- Perceive their environment through inputs and context\n",
    "- Process and reason about information\n",
    "- Make decisions and plan multi-step actions\n",
    "- Execute tasks by using tools and APIs\n",
    "- Learn from feedback and improve over time\n",
    "\n",
    "Unlike simple LLM applications that respond to single prompts, agents maintain state, make sequential decisions, and take actions to accomplish complex tasks.\n",
    "\n",
    "### Key Components of AI Agents\n",
    "\n",
    "- **Memory**: Ability to store and recall information from previous interactions\n",
    "- **Tools**: Functions or APIs that the agent can use to interact with external systems\n",
    "- **Planning**: Ability to break down complex tasks into manageable steps\n",
    "- **Reasoning**: Capability to make decisions based on available information\n",
    "- **Reflection**: Ability to evaluate performance and adjust strategies\n",
    "\n",
    "### LangGraph: Building Stateful Multi-Agent Systems\n",
    "\n",
    "LangGraph extends LangChain by providing a framework for creating stateful agents with:\n",
    "\n",
    "- A graph structure where nodes represent different agent states\n",
    "- Tools for managing transitions between states\n",
    "- Methods for orchestrating complex workflows with multiple agents\n",
    "\n",
    "Let's start by installing the necessary libraries:"
   ]
  },
  {
   "cell_type": "code",
   "execution_count": null,
   "metadata": {
    "vscode": {
     "languageId": "shellscript"
    }
   },
   "outputs": [],
   "source": [
    "!pip install langchain langchain-anthropic langchain-aws langchain-community langgraph langsmith"
   ]
  },
  {
   "cell_type": "markdown",
   "metadata": {},
   "source": [
    "### Setting Up Our Environment\n",
    "\n",
    "In order to use LangGraph, we need to setup an llm chain. We will use ChatBedrock since our inference endpoints are hosted on Bedrock.\n",
    "We will be use the Claude 3.7 model from Anthropic. This is one of the most advanced models available today."
   ]
  },
  {
   "cell_type": "code",
   "execution_count": 2,
   "metadata": {},
   "outputs": [],
   "source": [
    "from langchain_aws import ChatBedrock\n",
    "\n",
    "llm = ChatBedrock(\n",
    "    model=\"us.anthropic.claude-3-7-sonnet-20250219-v1:0\",\n",
    "    temperature=0,\n",
    "    region=\"us-east-1\",\n",
    ")"
   ]
  },
  {
   "cell_type": "markdown",
   "metadata": {},
   "source": [
    "### Building Our Agent's Components\n",
    "\n",
    "Our graph will have a single agent (the assistant) and some available tools.\n",
    "\n",
    "Let's start by defining the tools, and begin with our **Policy Lookup Tool**.\n",
    "\n",
    "This tool will take the markdown document `acme_guidelines.md` and will split it using the MarkdownHeaderTextSplitter (the same one we learned about on our previous module) and will store the resulting documents in a `InMemoryVectorStore`.\n",
    "This `InMemoryVectorStore` is no different than any other vector storage databases, it won't be used in a production environment but it is useful for training purposes.\n",
    "\n",
    "The lookup_policy tool once called, will do a similarity search on the documents stored in the `InMemoryVectorStore` and will return the most similar document to the query."
   ]
  },
  {
   "cell_type": "code",
   "execution_count": 3,
   "metadata": {},
   "outputs": [],
   "source": [
    "from typing import Annotated\n",
    "from langchain_aws import BedrockEmbeddings\n",
    "from langchain_core.tools import tool\n",
    "from langchain_core.vectorstores import InMemoryVectorStore\n",
    "from langchain.document_loaders import TextLoader\n",
    "from langchain_text_splitters import MarkdownHeaderTextSplitter\n",
    "\n",
    "embeddings = BedrockEmbeddings(\n",
    "    model_id=\"amazon.titan-embed-text-v2:0\", region_name=\"us-east-1\"\n",
    ")\n",
    "\n",
    "loader = TextLoader(\"acme_guidelines.md\")\n",
    "documents = loader.load()\n",
    "headers_to_split_on = [\n",
    "    (\"#\", \"Header 1\"),\n",
    "    (\"##\", \"Header 2\"),\n",
    "    (\"###\", \"Header 3\"),\n",
    "]\n",
    "md_splitter = MarkdownHeaderTextSplitter(headers_to_split_on=headers_to_split_on)\n",
    "md_splits = []\n",
    "for document in documents:\n",
    "    md_splits.extend(md_splitter.split_text(document.page_content))\n",
    "\n",
    "vector_store = InMemoryVectorStore(embeddings)\n",
    "vector_store.add_documents(md_splits)\n",
    "\n",
    "\n",
    "@tool\n",
    "def lookup_policy(\n",
    "    query: Annotated[str, \"The query to look for in the company policies.\"],\n",
    ") -> str:\n",
    "    \"\"\"\n",
    "    Consult the configuration guidelines.\n",
    "    Use this before making any network changes performing other 'write' events.\n",
    "    \"\"\"\n",
    "    docs = vector_store.similarity_search(query, k=2)\n",
    "    return \"\\n\\n\".join([doc.page_content for doc in docs])"
   ]
  },
  {
   "cell_type": "markdown",
   "metadata": {},
   "source": [
    "Now that we have done that, let's proceed with creating a tool that will allow the agent to configure devices. In this example, our tool will simulate sending the configuration to a device, and will instead print the configuration to the console. In a real-world scenario, you would replace this with actual code that sends the configuration to a device for example via RESTCONF or NETCONF."
   ]
  },
  {
   "cell_type": "code",
   "execution_count": 4,
   "metadata": {},
   "outputs": [],
   "source": [
    "from typing import Annotated\n",
    "\n",
    "import httpx\n",
    "from langchain_core.tools import tool\n",
    "\n",
    "devices = {\n",
    "    \"CTG-EDGE-001\": {\n",
    "        \"hostname\": \"devnetsandboxiosxe.cisco.com\",\n",
    "        \"username\": \"admin\",\n",
    "        \"password\": \"C1sco12345\",\n",
    "    }\n",
    "}\n",
    "# hostname = \"devnetsandboxiosxe.cisco.com\"\n",
    "# username = \"admin\"\n",
    "# password = \"C1sco12345\"\n",
    "\n",
    "headers = {\n",
    "    \"Content-Type\": \"application/yang-data+json\",\n",
    "    \"Accept\": \"application/yang-data+json\",\n",
    "}\n",
    "\n",
    "\n",
    "@tool\n",
    "def configure_device(\n",
    "    device_name: Annotated[str, \"The name of the device to configure.\"],\n",
    "    interface_name: Annotated[\n",
    "        str,\n",
    "        \"The interface name to apply the configuration to. E.g., 'Loopback100'\",\n",
    "    ],\n",
    "    interface_description: Annotated[str, \"The description to set for the interface.\"],\n",
    "    interface_ipv4_address: Annotated[\n",
    "        str, \"The IPv4 address to assign to the interface. E.g., 192.168.1.1\"\n",
    "    ],\n",
    "    interface_ipv4_subnet_mask: Annotated[\n",
    "        str, \"The IPv4 subnet mask to assign to the interface. E.g., 255.255.255.0\"\n",
    "    ],\n",
    ") -> bool:\n",
    "    \"\"\"Use this tool to configure the interface of a device.\"\"\"\n",
    "    hostname = devices[device_name][\"hostname\"]\n",
    "    username = devices[device_name][\"username\"]\n",
    "    password = devices[device_name][\"password\"]\n",
    "    uri = \"/restconf/data/ietf-interfaces:interfaces\"\n",
    "    payload = {\n",
    "        \"ietf-interfaces:interface\": {\n",
    "            \"name\": interface_name,\n",
    "            \"description\": interface_description,\n",
    "            \"type\": \"iana-if-type:softwareLoopback\",\n",
    "            \"enabled\": True,\n",
    "            \"ietf-ip:ipv4\": {\n",
    "                \"address\": [\n",
    "                    {\n",
    "                        \"ip\": interface_ipv4_address,\n",
    "                        \"netmask\": interface_ipv4_subnet_mask,\n",
    "                    }\n",
    "                ]\n",
    "            },\n",
    "        }\n",
    "    }\n",
    "    response = httpx.post(\n",
    "        f\"https://{hostname}/{uri}\",\n",
    "        auth=(username, password),\n",
    "        headers=headers,\n",
    "        json=payload,\n",
    "        verify=False,\n",
    "    )\n",
    "\n",
    "    response.raise_for_status()\n",
    "    return response.text"
   ]
  },
  {
   "cell_type": "markdown",
   "metadata": {},
   "source": [
    "Let's create an array that will contain the list of tools that will be available to our agent. The first tool we'll define is the policy lookup tool. This tool will allow the agent to look up network policies in the knowledge base."
   ]
  },
  {
   "cell_type": "code",
   "execution_count": 5,
   "metadata": {},
   "outputs": [],
   "source": [
    "from langchain_core.messages import ToolMessage\n",
    "from langchain_core.runnables import RunnableLambda\n",
    "\n",
    "\n",
    "def handle_tool_error(state) -> dict:\n",
    "    \"\"\"Handle the error from the tool.\"\"\"\n",
    "    error = state.get(\"error\")\n",
    "    tool_calls = state[\"messages\"][-1].tool_calls\n",
    "    return {\n",
    "        \"messages\": [\n",
    "            ToolMessage(\n",
    "                content=f\"Error: {repr(error)}\\n please fix your mistakes.\",\n",
    "                tool_call_id=tc[\"id\"],\n",
    "            )\n",
    "            for tc in tool_calls\n",
    "        ]\n",
    "    }\n",
    "\n",
    "\n",
    "available_tools = [\n",
    "    lookup_policy,\n",
    "    configure_device,\n",
    "]"
   ]
  },
  {
   "cell_type": "markdown",
   "metadata": {},
   "source": [
    "Let's create our assistant agent that will have access to all the available tools. We'll define the agent as a class. This will allow us to easily add more tools in the future if needed."
   ]
  },
  {
   "cell_type": "code",
   "execution_count": 6,
   "metadata": {},
   "outputs": [],
   "source": [
    "from datetime import datetime\n",
    "\n",
    "from langchain_core.prompts import (\n",
    "    ChatPromptTemplate,\n",
    "    MessagesPlaceholder,\n",
    "    SystemMessagePromptTemplate,\n",
    ")\n",
    "from langchain_core.messages import HumanMessage\n",
    "from langchain_core.runnables import Runnable, RunnableConfig\n",
    "from langgraph.graph import MessagesState\n",
    "\n",
    "primary_assistant_prompt = ChatPromptTemplate.from_messages(\n",
    "    [\n",
    "        SystemMessagePromptTemplate.from_template(\n",
    "            \"You are a helpful customer support assistant for ACME Service Provider. \"\n",
    "            \"Use the provided tools to create resources or to search for procedures, company policies, and other information to assist the user's queries. \"\n",
    "            \"When searching, be persistent. Expand your query bounds if the first search returns no results. \"\n",
    "            \"If a search comes up empty, expand your search before giving up.\"\n",
    "            \"\\nCurrent time: {time}.\",\n",
    "        ),\n",
    "        MessagesPlaceholder(\"messages\"),\n",
    "    ]\n",
    ").partial(time=datetime.now)\n",
    "\n",
    "\n",
    "class Assistant:\n",
    "    \"\"\"Assistant node for the graph.\"\"\"\n",
    "\n",
    "    def __init__(self):\n",
    "        \"\"\"Initialize the assistant.\"\"\"\n",
    "        self.runnable: Runnable = primary_assistant_prompt | llm.bind_tools(\n",
    "            available_tools\n",
    "        )\n",
    "\n",
    "    def __call__(self, state: MessagesState, config: RunnableConfig):\n",
    "        while True:\n",
    "            result = self.runnable.invoke(state)\n",
    "            # If the LLM happens to return an empty response, we will re-prompt it\n",
    "            # for an actual response.\n",
    "            if not result.tool_calls and (\n",
    "                not result.content\n",
    "                or isinstance(result.content, list)\n",
    "                and not result.content[0].get(\"text\")\n",
    "            ):\n",
    "                messages = state[\"messages\"] + [\n",
    "                    HumanMessage(content=\"Respond with a real output.\")\n",
    "                ]\n",
    "                state = {**state, \"messages\": messages}\n",
    "            else:\n",
    "                break\n",
    "        return {\"messages\": result}"
   ]
  },
  {
   "cell_type": "markdown",
   "metadata": {},
   "source": [
    "Building the Agent Graph\n",
    "Now, let's connect all these components into a graph using LangGraph:"
   ]
  },
  {
   "cell_type": "code",
   "execution_count": 7,
   "metadata": {},
   "outputs": [],
   "source": [
    "from langgraph.graph import StateGraph, START\n",
    "from langgraph.prebuilt import tools_condition\n",
    "from langgraph.graph import MessagesState\n",
    "from langgraph.prebuilt import ToolNode\n",
    "\n",
    "# Create the graph\n",
    "workflow = StateGraph(MessagesState)\n",
    "\n",
    "# Add nodes: these do the work\n",
    "workflow.add_node(\"assistant\", Assistant())\n",
    "workflow.add_node(\n",
    "    \"tools\",\n",
    "    ToolNode(available_tools).with_fallbacks(\n",
    "        [RunnableLambda(handle_tool_error)],\n",
    "        exceptions_to_handle=(httpx.RequestError,),\n",
    "        exception_key=\"error\",\n",
    "    ),\n",
    ")\n",
    "\n",
    "# Define edges: these determine how the control flow moves\n",
    "workflow.add_edge(START, \"assistant\")\n",
    "workflow.add_conditional_edges(\n",
    "    \"assistant\",\n",
    "    tools_condition,\n",
    ")\n",
    "workflow.add_edge(\"tools\", \"assistant\")\n",
    "\n",
    "graph = workflow.compile()\n"
   ]
  },
  {
   "cell_type": "markdown",
   "metadata": {},
   "source": [
    "Let's visualize our graph to see how the nodes are connected:"
   ]
  },
  {
   "cell_type": "code",
   "execution_count": 8,
   "metadata": {},
   "outputs": [
    {
     "data": {
      "image/png": "[encoded data removed]",
      "text/plain": [
       "<IPython.core.display.Image object>"
      ]
     },
     "metadata": {},
     "output_type": "display_data"
    }
   ],
   "source": [
    "from IPython.display import Image, display\n",
    "from langchain_core.runnables.graph import MermaidDrawMethod\n",
    "\n",
    "display(\n",
    "    Image(\n",
    "        graph.get_graph().draw_mermaid_png(\n",
    "            draw_method=MermaidDrawMethod.API,\n",
    "        )\n",
    "    )\n",
    ")"
   ]
  },
  {
   "cell_type": "markdown",
   "metadata": {},
   "source": [
    "Using Our Network Configuration Agent\n",
    "Let's create a function to interact with our agent:"
   ]
  },
  {
   "cell_type": "markdown",
   "metadata": {},
   "source": [
    "Example Usage\n",
    "Let's test our agent with a few examples. Let's begin with asking our agent the following: **I need to create a new VLAN for my database server.**"
   ]
  },
  {
   "cell_type": "code",
   "execution_count": 26,
   "metadata": {},
   "outputs": [
    {
     "data": {
      "text/html": [
       "<pre style=\"white-space:pre;overflow-x:auto;line-height:normal;font-family:Menlo,'DejaVu Sans Mono',consolas,'Courier New',monospace\">================================== Ai Message ==================================\n",
       "\n",
       "I'll help you configure the Loopback101 interface on device CTG-EDGE-<span style=\"color: #008080; text-decoration-color: #008080; font-weight: bold\">001</span>. Before making any network changes, I \n",
       "should check our company policies regarding interface configurations.\n",
       "Tool Calls:\n",
       "  lookup_policy <span style=\"font-weight: bold\">(</span>toolu_bdrk_01NeLwaQguR62QEHZaTTaBGZ<span style=\"font-weight: bold\">)</span>\n",
       " Call ID: toolu_bdrk_01NeLwaQguR62QEHZaTTaBGZ\n",
       "  Args:\n",
       "    query: loopback interface configuration\n",
       "</pre>\n"
      ],
      "text/plain": [
       "================================== Ai Message ==================================\n",
       "\n",
       "I'll help you configure the Loopback101 interface on device CTG-EDGE-\u001b[1;36m001\u001b[0m. Before making any network changes, I \n",
       "should check our company policies regarding interface configurations.\n",
       "Tool Calls:\n",
       "  lookup_policy \u001b[1m(\u001b[0mtoolu_bdrk_01NeLwaQguR62QEHZaTTaBGZ\u001b[1m)\u001b[0m\n",
       " Call ID: toolu_bdrk_01NeLwaQguR62QEHZaTTaBGZ\n",
       "  Args:\n",
       "    query: loopback interface configuration\n"
      ]
     },
     "metadata": {},
     "output_type": "display_data"
    },
    {
     "data": {
      "text/html": [
       "<pre style=\"white-space:pre;overflow-x:auto;line-height:normal;font-family:Menlo,'DejaVu Sans Mono',consolas,'Courier New',monospace\">================================= Tool Message =================================\n",
       "Name: lookup_policy\n",
       "\n",
       "<span style=\"color: #008080; text-decoration-color: #008080; font-weight: bold\">1</span>. Interfaces must have a description that matches the following convention: <span style=\"font-weight: bold\">&lt;</span><span style=\"color: #ff00ff; text-decoration-color: #ff00ff; font-weight: bold\">type</span><span style=\"color: #000000; text-decoration-color: #000000\">&gt;_&lt;speed&gt;_&lt;peer_id</span><span style=\"font-weight: bold\">&gt;</span>, where `type`\n",
       "is `L2` for switches interfaces, `L3` for routed interfaces and `PC` to interfaces member of a port-channel  \n",
       "```\n",
       "interface ethernet1/<span style=\"color: #008080; text-decoration-color: #008080; font-weight: bold\">1</span>\n",
       "no switchport\n",
       "description L3_10G_DMZ Router\n",
       "ip address <span style=\"color: #00ff00; text-decoration-color: #00ff00; font-weight: bold\">10.1.2.254</span>/<span style=\"color: #008080; text-decoration-color: #008080; font-weight: bold\">24</span>\n",
       "```\n",
       "\n",
       "The following document states the configuration policies of the devices of the ACME company\n",
       "</pre>\n"
      ],
      "text/plain": [
       "================================= Tool Message =================================\n",
       "Name: lookup_policy\n",
       "\n",
       "\u001b[1;36m1\u001b[0m. Interfaces must have a description that matches the following convention: \u001b[1m<\u001b[0m\u001b[1;95mtype\u001b[0m\u001b[39m>_<speed>_<peer_id\u001b[0m\u001b[1m>\u001b[0m, where `type`\n",
       "is `L2` for switches interfaces, `L3` for routed interfaces and `PC` to interfaces member of a port-channel  \n",
       "```\n",
       "interface ethernet1/\u001b[1;36m1\u001b[0m\n",
       "no switchport\n",
       "description L3_10G_DMZ Router\n",
       "ip address \u001b[1;92m10.1.2.254\u001b[0m/\u001b[1;36m24\u001b[0m\n",
       "```\n",
       "\n",
       "The following document states the configuration policies of the devices of the ACME company\n"
      ]
     },
     "metadata": {},
     "output_type": "display_data"
    },
    {
     "data": {
      "text/html": [
       "<pre style=\"white-space:pre;overflow-x:auto;line-height:normal;font-family:Menlo,'DejaVu Sans Mono',consolas,'Courier New',monospace\">================================== Ai Message ==================================\n",
       "\n",
       "Now I'll check for any specific policies related to loopback interfaces:\n",
       "Tool Calls:\n",
       "  lookup_policy <span style=\"font-weight: bold\">(</span>toolu_bdrk_01QitKJgyYbty2jhsvfchUR2<span style=\"font-weight: bold\">)</span>\n",
       " Call ID: toolu_bdrk_01QitKJgyYbty2jhsvfchUR2\n",
       "  Args:\n",
       "    query: loopback interface naming convention\n",
       "</pre>\n"
      ],
      "text/plain": [
       "================================== Ai Message ==================================\n",
       "\n",
       "Now I'll check for any specific policies related to loopback interfaces:\n",
       "Tool Calls:\n",
       "  lookup_policy \u001b[1m(\u001b[0mtoolu_bdrk_01QitKJgyYbty2jhsvfchUR2\u001b[1m)\u001b[0m\n",
       " Call ID: toolu_bdrk_01QitKJgyYbty2jhsvfchUR2\n",
       "  Args:\n",
       "    query: loopback interface naming convention\n"
      ]
     },
     "metadata": {},
     "output_type": "display_data"
    },
    {
     "data": {
      "text/html": [
       "<pre style=\"white-space:pre;overflow-x:auto;line-height:normal;font-family:Menlo,'DejaVu Sans Mono',consolas,'Courier New',monospace\">================================= Tool Message =================================\n",
       "Name: lookup_policy\n",
       "\n",
       "<span style=\"color: #008080; text-decoration-color: #008080; font-weight: bold\">1</span>. Interfaces must have a description that matches the following convention: <span style=\"font-weight: bold\">&lt;</span><span style=\"color: #ff00ff; text-decoration-color: #ff00ff; font-weight: bold\">type</span><span style=\"color: #000000; text-decoration-color: #000000\">&gt;_&lt;speed&gt;_&lt;peer_id</span><span style=\"font-weight: bold\">&gt;</span>, where `type`\n",
       "is `L2` for switches interfaces, `L3` for routed interfaces and `PC` to interfaces member of a port-channel  \n",
       "```\n",
       "interface ethernet1/<span style=\"color: #008080; text-decoration-color: #008080; font-weight: bold\">1</span>\n",
       "no switchport\n",
       "description L3_10G_DMZ Router\n",
       "ip address <span style=\"color: #00ff00; text-decoration-color: #00ff00; font-weight: bold\">10.1.2.254</span>/<span style=\"color: #008080; text-decoration-color: #008080; font-weight: bold\">24</span>\n",
       "```\n",
       "\n",
       "<span style=\"color: #008080; text-decoration-color: #008080; font-weight: bold\">1</span>. Routable addresses used on physical Interfaces <span style=\"font-weight: bold\">(</span>E.g: Ethernet <span style=\"color: #008080; text-decoration-color: #008080; font-weight: bold\">1</span>/<span style=\"color: #008080; text-decoration-color: #008080; font-weight: bold\">2</span><span style=\"font-weight: bold\">)</span>, Port-Chanels <span style=\"font-weight: bold\">(</span>port-channel1<span style=\"font-weight: bold\">)</span> or SVI \n",
       "Interfaces must be taken from the CIDR <span style=\"color: #00ff00; text-decoration-color: #00ff00; font-weight: bold\">10.1.0.0</span>/<span style=\"color: #008080; text-decoration-color: #008080; font-weight: bold\">8</span>  \n",
       "Example:\n",
       "This is a valid interface configuration\n",
       "```\n",
       "interface vlan <span style=\"color: #008080; text-decoration-color: #008080; font-weight: bold\">123</span>\n",
       "no switchport\n",
       "ip address <span style=\"color: #00ff00; text-decoration-color: #00ff00; font-weight: bold\">10.1.1.254</span>/<span style=\"color: #008080; text-decoration-color: #008080; font-weight: bold\">24</span>\n",
       "```  \n",
       "<span style=\"color: #008080; text-decoration-color: #008080; font-weight: bold\">2</span>. IP Addresses assigned to Router IDs <span style=\"font-weight: bold\">(</span>RID<span style=\"font-weight: bold\">)</span> of routing protocols such as OSPF, EIGRP or BGP must be taken from the\n",
       "CIDR <span style=\"color: #00ff00; text-decoration-color: #00ff00; font-weight: bold\">172.20.0.0</span>/<span style=\"color: #008080; text-decoration-color: #008080; font-weight: bold\">16</span>  \n",
       "Example:\n",
       "This is a valid OSPF process configuration  \n",
       "```\n",
       "router ospf OSPF1\n",
       "router-id  <span style=\"color: #00ff00; text-decoration-color: #00ff00; font-weight: bold\">172.1.1.5</span>\n",
       "```\n",
       "</pre>\n"
      ],
      "text/plain": [
       "================================= Tool Message =================================\n",
       "Name: lookup_policy\n",
       "\n",
       "\u001b[1;36m1\u001b[0m. Interfaces must have a description that matches the following convention: \u001b[1m<\u001b[0m\u001b[1;95mtype\u001b[0m\u001b[39m>_<speed>_<peer_id\u001b[0m\u001b[1m>\u001b[0m, where `type`\n",
       "is `L2` for switches interfaces, `L3` for routed interfaces and `PC` to interfaces member of a port-channel  \n",
       "```\n",
       "interface ethernet1/\u001b[1;36m1\u001b[0m\n",
       "no switchport\n",
       "description L3_10G_DMZ Router\n",
       "ip address \u001b[1;92m10.1.2.254\u001b[0m/\u001b[1;36m24\u001b[0m\n",
       "```\n",
       "\n",
       "\u001b[1;36m1\u001b[0m. Routable addresses used on physical Interfaces \u001b[1m(\u001b[0mE.g: Ethernet \u001b[1;36m1\u001b[0m/\u001b[1;36m2\u001b[0m\u001b[1m)\u001b[0m, Port-Chanels \u001b[1m(\u001b[0mport-channel1\u001b[1m)\u001b[0m or SVI \n",
       "Interfaces must be taken from the CIDR \u001b[1;92m10.1.0.0\u001b[0m/\u001b[1;36m8\u001b[0m  \n",
       "Example:\n",
       "This is a valid interface configuration\n",
       "```\n",
       "interface vlan \u001b[1;36m123\u001b[0m\n",
       "no switchport\n",
       "ip address \u001b[1;92m10.1.1.254\u001b[0m/\u001b[1;36m24\u001b[0m\n",
       "```  \n",
       "\u001b[1;36m2\u001b[0m. IP Addresses assigned to Router IDs \u001b[1m(\u001b[0mRID\u001b[1m)\u001b[0m of routing protocols such as OSPF, EIGRP or BGP must be taken from the\n",
       "CIDR \u001b[1;92m172.20.0.0\u001b[0m/\u001b[1;36m16\u001b[0m  \n",
       "Example:\n",
       "This is a valid OSPF process configuration  \n",
       "```\n",
       "router ospf OSPF1\n",
       "router-id  \u001b[1;92m172.1.1.5\u001b[0m\n",
       "```\n"
      ]
     },
     "metadata": {},
     "output_type": "display_data"
    },
    {
     "data": {
      "text/html": [
       "<pre style=\"white-space:pre;overflow-x:auto;line-height:normal;font-family:Menlo,'DejaVu Sans Mono',consolas,'Courier New',monospace\">================================== Ai Message ==================================\n",
       "\n",
       "Based on the company policies, I need to configure the Loopback101 interface with the proper description format and\n",
       "IP address. Since this is a loopback interface connecting to another device <span style=\"font-weight: bold\">(</span>BOG-CORE-<span style=\"color: #008080; text-decoration-color: #008080; font-weight: bold\">001</span><span style=\"font-weight: bold\">)</span>, I'll use the L3 type in\n",
       "the description.\n",
       "\n",
       "Now I'll proceed with configuring the device:\n",
       "Tool Calls:\n",
       "  configure_device <span style=\"font-weight: bold\">(</span>toolu_bdrk_01JV9jtEmkNFjxf1iDj4Rsc3<span style=\"font-weight: bold\">)</span>\n",
       " Call ID: toolu_bdrk_01JV9jtEmkNFjxf1iDj4Rsc3\n",
       "  Args:\n",
       "    device_name: CTG-EDGE-<span style=\"color: #008080; text-decoration-color: #008080; font-weight: bold\">001</span>\n",
       "    interface_name: Loopback101\n",
       "    interface_description: L3_LOOPBACK_BOG-CORE-<span style=\"color: #008080; text-decoration-color: #008080; font-weight: bold\">001</span>\n",
       "    interface_ipv4_address: <span style=\"color: #00ff00; text-decoration-color: #00ff00; font-weight: bold\">10.1.2.1</span>\n",
       "    interface_ipv4_subnet_mask: <span style=\"color: #00ff00; text-decoration-color: #00ff00; font-weight: bold\">255.255.255.252</span>\n",
       "</pre>\n"
      ],
      "text/plain": [
       "================================== Ai Message ==================================\n",
       "\n",
       "Based on the company policies, I need to configure the Loopback101 interface with the proper description format and\n",
       "IP address. Since this is a loopback interface connecting to another device \u001b[1m(\u001b[0mBOG-CORE-\u001b[1;36m001\u001b[0m\u001b[1m)\u001b[0m, I'll use the L3 type in\n",
       "the description.\n",
       "\n",
       "Now I'll proceed with configuring the device:\n",
       "Tool Calls:\n",
       "  configure_device \u001b[1m(\u001b[0mtoolu_bdrk_01JV9jtEmkNFjxf1iDj4Rsc3\u001b[1m)\u001b[0m\n",
       " Call ID: toolu_bdrk_01JV9jtEmkNFjxf1iDj4Rsc3\n",
       "  Args:\n",
       "    device_name: CTG-EDGE-\u001b[1;36m001\u001b[0m\n",
       "    interface_name: Loopback101\n",
       "    interface_description: L3_LOOPBACK_BOG-CORE-\u001b[1;36m001\u001b[0m\n",
       "    interface_ipv4_address: \u001b[1;92m10.1.2.1\u001b[0m\n",
       "    interface_ipv4_subnet_mask: \u001b[1;92m255.255.255.252\u001b[0m\n"
      ]
     },
     "metadata": {},
     "output_type": "display_data"
    },
    {
     "data": {
      "text/html": [
       "<pre style=\"white-space:pre;overflow-x:auto;line-height:normal;font-family:Menlo,'DejaVu Sans Mono',consolas,'Courier New',monospace\">================================= Tool Message =================================\n",
       "Name: configure_device\n",
       "\n",
       "\n",
       "</pre>\n"
      ],
      "text/plain": [
       "================================= Tool Message =================================\n",
       "Name: configure_device\n",
       "\n",
       "\n"
      ]
     },
     "metadata": {},
     "output_type": "display_data"
    },
    {
     "data": {
      "text/html": [
       "<pre style=\"white-space:pre;overflow-x:auto;line-height:normal;font-family:Menlo,'DejaVu Sans Mono',consolas,'Courier New',monospace\">================================== Ai Message ==================================\n",
       "\n",
       "I've successfully configured the Loopback101 interface on device CTG-EDGE-<span style=\"color: #008080; text-decoration-color: #008080; font-weight: bold\">001</span> with the following settings:\n",
       "\n",
       "- Device: CTG-EDGE-<span style=\"color: #008080; text-decoration-color: #008080; font-weight: bold\">001</span>\n",
       "- Interface: Loopback101\n",
       "- Description: L3_LOOPBACK_BOG-CORE-<span style=\"color: #008080; text-decoration-color: #008080; font-weight: bold\">001</span>\n",
       "- IPv4 Address: <span style=\"color: #00ff00; text-decoration-color: #00ff00; font-weight: bold\">10.1.2.1</span>\n",
       "- Subnet Mask: <span style=\"color: #00ff00; text-decoration-color: #00ff00; font-weight: bold\">255.255.255.252</span> <span style=\"font-weight: bold\">(</span>equivalent to <span style=\"color: #800080; text-decoration-color: #800080\">/</span><span style=\"color: #ff00ff; text-decoration-color: #ff00ff\">30</span> as requested<span style=\"font-weight: bold\">)</span>\n",
       "\n",
       "The configuration has been applied according to ACME company policies, using the proper description format for a \n",
       "Layer <span style=\"color: #008080; text-decoration-color: #008080; font-weight: bold\">3</span> interface and an IP address from the allowed <span style=\"color: #00ff00; text-decoration-color: #00ff00; font-weight: bold\">10.1.0.0</span>/<span style=\"color: #008080; text-decoration-color: #008080; font-weight: bold\">8</span> range.\n",
       "\n",
       "Is there anything else you'd like me to help you with regarding this configuration?\n",
       "</pre>\n"
      ],
      "text/plain": [
       "================================== Ai Message ==================================\n",
       "\n",
       "I've successfully configured the Loopback101 interface on device CTG-EDGE-\u001b[1;36m001\u001b[0m with the following settings:\n",
       "\n",
       "- Device: CTG-EDGE-\u001b[1;36m001\u001b[0m\n",
       "- Interface: Loopback101\n",
       "- Description: L3_LOOPBACK_BOG-CORE-\u001b[1;36m001\u001b[0m\n",
       "- IPv4 Address: \u001b[1;92m10.1.2.1\u001b[0m\n",
       "- Subnet Mask: \u001b[1;92m255.255.255.252\u001b[0m \u001b[1m(\u001b[0mequivalent to \u001b[35m/\u001b[0m\u001b[95m30\u001b[0m as requested\u001b[1m)\u001b[0m\n",
       "\n",
       "The configuration has been applied according to ACME company policies, using the proper description format for a \n",
       "Layer \u001b[1;36m3\u001b[0m interface and an IP address from the allowed \u001b[1;92m10.1.0.0\u001b[0m/\u001b[1;36m8\u001b[0m range.\n",
       "\n",
       "Is there anything else you'd like me to help you with regarding this configuration?\n"
      ]
     },
     "metadata": {},
     "output_type": "display_data"
    }
   ],
   "source": [
    "from fastapi.encoders import jsonable_encoder\n",
    "import rich\n",
    "from langchain_core.messages import HumanMessage\n",
    "\n",
    "\n",
    "for event in graph.stream(\n",
    "    {\n",
    "        \"messages\": [\n",
    "            HumanMessage(\n",
    "                content=\"Configure interface Loopback101 on device CTG-EDGE-001 with IPv4 address 10.1.2.1/30, this interface will connect to BOG-CORE-001.\"\n",
    "            )\n",
    "        ]\n",
    "    },\n",
    "    stream_mode=\"updates\",\n",
    "):\n",
    "    for _, message_or_messages in event.items():\n",
    "        if isinstance(message_or_messages[\"messages\"], list):\n",
    "            for message in message_or_messages[\"messages\"]:\n",
    "                rich.print(message.pretty_repr())\n",
    "        else:\n",
    "            rich.print(message_or_messages[\"messages\"].pretty_repr())\n"
   ]
  },
  {
   "cell_type": "markdown",
   "metadata": {},
   "source": [
    "Let's now verify that the requested interface has been configured. We are going to do this directly using httpx to make a GET request to the /interfaces endpoint of our device."
   ]
  },
  {
   "cell_type": "code",
   "execution_count": 27,
   "metadata": {},
   "outputs": [
    {
     "name": "stdout",
     "output_type": "stream",
     "text": [
      "{\n",
      "  \"ietf-interfaces:interface\": [\n",
      "    {\n",
      "      \"name\": \"Loopback101\",\n",
      "      \"description\": \"L3_LOOPBACK_BOG-CORE-001\",\n",
      "      \"type\": \"iana-if-type:softwareLoopback\",\n",
      "      \"enabled\": true,\n",
      "      \"ietf-ip:ipv4\": {\n",
      "        \"address\": [\n",
      "          {\n",
      "            \"ip\": \"10.1.2.1\",\n",
      "            \"netmask\": \"255.255.255.252\"\n",
      "          }\n",
      "        ]\n",
      "      },\n",
      "      \"ietf-ip:ipv6\": {\n",
      "      }\n",
      "    }\n",
      "  ]\n",
      "}\n",
      "\n"
     ]
    }
   ],
   "source": [
    "import httpx\n",
    "\n",
    "hostname = devices[\"CTG-EDGE-001\"][\"hostname\"]\n",
    "username = devices[\"CTG-EDGE-001\"][\"username\"]\n",
    "password = devices[\"CTG-EDGE-001\"][\"password\"]\n",
    "uri = \"/restconf/data/ietf-interfaces:interfaces/interface=Loopback101\"\n",
    "\n",
    "response = httpx.get(\n",
    "    f\"https://{hostname}/{uri}\",\n",
    "    auth=(username, password),\n",
    "    headers=headers,\n",
    "    verify=False,\n",
    ")\n",
    "print(response.text)"
   ]
  },
  {
   "cell_type": "markdown",
   "metadata": {},
   "source": [
    "Let's delete the recently created interface to avoid any issues in the future."
   ]
  },
  {
   "cell_type": "code",
   "execution_count": 28,
   "metadata": {},
   "outputs": [
    {
     "name": "stdout",
     "output_type": "stream",
     "text": [
      "\n"
     ]
    }
   ],
   "source": [
    "import httpx\n",
    "\n",
    "hostname = devices[\"CTG-EDGE-001\"][\"hostname\"]\n",
    "username = devices[\"CTG-EDGE-001\"][\"username\"]\n",
    "password = devices[\"CTG-EDGE-001\"][\"password\"]\n",
    "interface_to_delete = \"Loopback101\"\n",
    "uri = f\"/restconf/data/ietf-interfaces:interfaces/interface={interface_to_delete}\"\n",
    "\n",
    "# Make DELETE request to remove the interface\n",
    "response = httpx.delete(\n",
    "    f\"https://{hostname}/{uri}\",\n",
    "    auth=(username, password),\n",
    "    headers=headers,\n",
    "    verify=False,\n",
    ")\n",
    "print(response.text)"
   ]
  }
 ],
 "metadata": {
  "kernelspec": {
   "display_name": ".venv",
   "language": "python",
   "name": "python3"
  },
  "language_info": {
   "codemirror_mode": {
    "name": "ipython",
    "version": 3
   },
   "file_extension": ".py",
   "mimetype": "text/x-python",
   "name": "python",
   "nbconvert_exporter": "python",
   "pygments_lexer": "ipython3",
   "version": "3.11.10"
  }
 },
 "nbformat": 4,
 "nbformat_minor": 2
}
